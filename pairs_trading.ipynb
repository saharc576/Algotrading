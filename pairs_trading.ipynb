{
 "cells": [
  {
   "cell_type": "markdown",
   "metadata": {
    "collapsed": true
   },
   "source": [
    "# Basic Idea\n",
    "\n",
    "<b>We will create a semi-automatic algorithm that will alert to buy or sell in real-time.</br>\n",
    "This will be done in 4 steps: </b></br>\n",
    "1) Find 2 assets that move similarly with eachother over the past X periods of time. </br>\n",
    "2) Calculate the ratio between them.</br>\n",
    "3) Find the correct signal to buy or sell the assets, by their standard deviation from the mean.</br>\n",
    "4) Alert buy / sell."
   ]
  },
  {
   "cell_type": "markdown",
   "metadata": {},
   "source": [
    "# Basic Concepts\n",
    "<b>Let's go over some of the concpets we'll use in this project:</b></br>\n",
    "1) <u>Cointegration:</u> Similar to correlation. Means that the ratio between two series will vary around a mean. </br>  The two series, Y and X follow the follwing: Y = ⍺ X + e where ⍺ is the constant ratio and e is white noise</br>\n",
    "</br>\n",
    "2) <u>Stationarity:</u> A stochastic process whose unconditional joint probability distribution does not change when shifted in time. (basically - not time dependant). </br>"
   ]
  },
  {
   "cell_type": "markdown",
   "metadata": {},
   "source": []
  },
  {
   "cell_type": "markdown",
   "metadata": {},
   "source": [
    "# Project requirements"
   ]
  },
  {
   "cell_type": "code",
   "execution_count": 3,
   "metadata": {},
   "outputs": [],
   "source": [
    "from asyncio import threads\n",
    "import numpy as np\n",
    "import pandas as pd\n",
    "import statsmodels\n",
    "import statsmodels.api as sm\n",
    "from statsmodels.tsa.stattools import coint, adfuller\n",
    "import yfinance as yf\n",
    "from yahoo_fin.stock_info import get_data\n",
    "from datetime import datetime\n",
    "import matplotlib.pyplot as plt\n",
    "import plotly.graph_objs as go"
   ]
  },
  {
   "cell_type": "markdown",
   "metadata": {},
   "source": [
    "# Data that will be used\n",
    "We will examine ETFs of tech companies.</br>\n",
    "Our assumption is that each of them is stationary, and that they will probably be cointegrated, or at least correlated. </br>\n",
    "We will be looking at the following ETFs: </br>\n",
    "* VGT\n",
    "* XLK\n",
    "* SMH\n",
    "* SOXX\n",
    "* IYW \n",
    "\n",
    "Which are the Top 5 ETFs considering total assets and 5 years look back window profits. ([etfdb](https://etfdb.com/etfdb-category/technology-equities/))"
   ]
  },
  {
   "cell_type": "markdown",
   "metadata": {},
   "source": [
    "# Loading data"
   ]
  },
  {
   "cell_type": "code",
   "execution_count": 20,
   "metadata": {},
   "outputs": [
    {
     "data": {
      "text/html": [
       "<div>\n",
       "<style scoped>\n",
       "    .dataframe tbody tr th:only-of-type {\n",
       "        vertical-align: middle;\n",
       "    }\n",
       "\n",
       "    .dataframe tbody tr th {\n",
       "        vertical-align: top;\n",
       "    }\n",
       "\n",
       "    .dataframe thead th {\n",
       "        text-align: right;\n",
       "    }\n",
       "</style>\n",
       "<table border=\"1\" class=\"dataframe\">\n",
       "  <thead>\n",
       "    <tr style=\"text-align: right;\">\n",
       "      <th></th>\n",
       "      <th>Open</th>\n",
       "      <th>High</th>\n",
       "      <th>Low</th>\n",
       "      <th>Close</th>\n",
       "      <th>Volume</th>\n",
       "      <th>Dividends</th>\n",
       "      <th>Stock Splits</th>\n",
       "    </tr>\n",
       "    <tr>\n",
       "      <th>Date</th>\n",
       "      <th></th>\n",
       "      <th></th>\n",
       "      <th></th>\n",
       "      <th></th>\n",
       "      <th></th>\n",
       "      <th></th>\n",
       "      <th></th>\n",
       "    </tr>\n",
       "  </thead>\n",
       "  <tbody>\n",
       "    <tr>\n",
       "      <th>2004-01-30</th>\n",
       "      <td>41.826805</td>\n",
       "      <td>42.255886</td>\n",
       "      <td>41.826805</td>\n",
       "      <td>42.118580</td>\n",
       "      <td>117600</td>\n",
       "      <td>0.0</td>\n",
       "      <td>0</td>\n",
       "    </tr>\n",
       "    <tr>\n",
       "      <th>2004-02-02</th>\n",
       "      <td>42.135741</td>\n",
       "      <td>42.152905</td>\n",
       "      <td>41.912620</td>\n",
       "      <td>42.152905</td>\n",
       "      <td>65400</td>\n",
       "      <td>0.0</td>\n",
       "      <td>0</td>\n",
       "    </tr>\n",
       "    <tr>\n",
       "      <th>2004-02-03</th>\n",
       "      <td>41.878302</td>\n",
       "      <td>41.895466</td>\n",
       "      <td>41.723833</td>\n",
       "      <td>41.895466</td>\n",
       "      <td>231100</td>\n",
       "      <td>0.0</td>\n",
       "      <td>0</td>\n",
       "    </tr>\n",
       "    <tr>\n",
       "      <th>2004-02-04</th>\n",
       "      <td>40.762690</td>\n",
       "      <td>40.762690</td>\n",
       "      <td>40.633965</td>\n",
       "      <td>40.633965</td>\n",
       "      <td>51000</td>\n",
       "      <td>0.0</td>\n",
       "      <td>0</td>\n",
       "    </tr>\n",
       "    <tr>\n",
       "      <th>2004-02-05</th>\n",
       "      <td>40.934318</td>\n",
       "      <td>40.934318</td>\n",
       "      <td>40.633960</td>\n",
       "      <td>40.839920</td>\n",
       "      <td>2600</td>\n",
       "      <td>0.0</td>\n",
       "      <td>0</td>\n",
       "    </tr>\n",
       "    <tr>\n",
       "      <th>...</th>\n",
       "      <td>...</td>\n",
       "      <td>...</td>\n",
       "      <td>...</td>\n",
       "      <td>...</td>\n",
       "      <td>...</td>\n",
       "      <td>...</td>\n",
       "      <td>...</td>\n",
       "    </tr>\n",
       "    <tr>\n",
       "      <th>2022-04-28</th>\n",
       "      <td>374.200012</td>\n",
       "      <td>385.390015</td>\n",
       "      <td>371.700012</td>\n",
       "      <td>383.130005</td>\n",
       "      <td>570500</td>\n",
       "      <td>0.0</td>\n",
       "      <td>0</td>\n",
       "    </tr>\n",
       "    <tr>\n",
       "      <th>2022-04-29</th>\n",
       "      <td>378.839996</td>\n",
       "      <td>384.220001</td>\n",
       "      <td>366.660004</td>\n",
       "      <td>367.200012</td>\n",
       "      <td>615200</td>\n",
       "      <td>0.0</td>\n",
       "      <td>0</td>\n",
       "    </tr>\n",
       "    <tr>\n",
       "      <th>2022-05-02</th>\n",
       "      <td>366.380005</td>\n",
       "      <td>373.600006</td>\n",
       "      <td>362.899994</td>\n",
       "      <td>373.269989</td>\n",
       "      <td>711700</td>\n",
       "      <td>0.0</td>\n",
       "      <td>0</td>\n",
       "    </tr>\n",
       "    <tr>\n",
       "      <th>2022-05-03</th>\n",
       "      <td>372.750000</td>\n",
       "      <td>375.500000</td>\n",
       "      <td>370.149994</td>\n",
       "      <td>373.510010</td>\n",
       "      <td>405900</td>\n",
       "      <td>0.0</td>\n",
       "      <td>0</td>\n",
       "    </tr>\n",
       "    <tr>\n",
       "      <th>2022-05-04</th>\n",
       "      <td>374.850006</td>\n",
       "      <td>387.019989</td>\n",
       "      <td>367.649994</td>\n",
       "      <td>386.459991</td>\n",
       "      <td>3288700</td>\n",
       "      <td>0.0</td>\n",
       "      <td>0</td>\n",
       "    </tr>\n",
       "  </tbody>\n",
       "</table>\n",
       "<p>4598 rows × 7 columns</p>\n",
       "</div>"
      ],
      "text/plain": [
       "                  Open        High         Low       Close   Volume  \\\n",
       "Date                                                                  \n",
       "2004-01-30   41.826805   42.255886   41.826805   42.118580   117600   \n",
       "2004-02-02   42.135741   42.152905   41.912620   42.152905    65400   \n",
       "2004-02-03   41.878302   41.895466   41.723833   41.895466   231100   \n",
       "2004-02-04   40.762690   40.762690   40.633965   40.633965    51000   \n",
       "2004-02-05   40.934318   40.934318   40.633960   40.839920     2600   \n",
       "...                ...         ...         ...         ...      ...   \n",
       "2022-04-28  374.200012  385.390015  371.700012  383.130005   570500   \n",
       "2022-04-29  378.839996  384.220001  366.660004  367.200012   615200   \n",
       "2022-05-02  366.380005  373.600006  362.899994  373.269989   711700   \n",
       "2022-05-03  372.750000  375.500000  370.149994  373.510010   405900   \n",
       "2022-05-04  374.850006  387.019989  367.649994  386.459991  3288700   \n",
       "\n",
       "            Dividends  Stock Splits  \n",
       "Date                                 \n",
       "2004-01-30        0.0             0  \n",
       "2004-02-02        0.0             0  \n",
       "2004-02-03        0.0             0  \n",
       "2004-02-04        0.0             0  \n",
       "2004-02-05        0.0             0  \n",
       "...               ...           ...  \n",
       "2022-04-28        0.0             0  \n",
       "2022-04-29        0.0             0  \n",
       "2022-05-02        0.0             0  \n",
       "2022-05-03        0.0             0  \n",
       "2022-05-04        0.0             0  \n",
       "\n",
       "[4598 rows x 7 columns]"
      ]
     },
     "execution_count": 20,
     "metadata": {},
     "output_type": "execute_result"
    }
   ],
   "source": [
    "# Loading data for S&P 500 time-series\n",
    "vgt = yf.Ticker('VGT')\n",
    "xlk = yf.Ticker('XLK')\n",
    "smh = yf.Ticker('SMH')\n",
    "soxx = yf.Ticker('SOXX')\n",
    "iyw = yf.Ticker('IYW')\n",
    "\n",
    "data_hist = vgt.history(period='max')\n",
    "\n",
    "# check for null and zero entries \n",
    "len(\n",
    "  data_hist[\n",
    "    data_hist.Close.isna() |\n",
    "    data_hist.Close.isnull() |\n",
    "    data_hist.Close < 1e-8\n",
    "  ]\n",
    ")\n",
    "# Print data history\n",
    "data_hist"
   ]
  },
  {
   "cell_type": "markdown",
   "metadata": {},
   "source": [
    "# Calculate and plot ratio"
   ]
  },
  {
   "cell_type": "code",
   "execution_count": 19,
   "metadata": {},
   "outputs": [
    {
     "data": {
      "image/png": "[encoded data removed]",
      "text/plain": [
       "<Figure size 432x288 with 1 Axes>"
      ]
     },
     "metadata": {
      "needs_background": "light"
     },
     "output_type": "display_data"
    }
   ],
   "source": [
    "# Plotting prices\n",
    "data.Close.plot()\n",
    "plt.ylabel(\"Price\");"
   ]
  },
  {
   "cell_type": "code",
   "execution_count": null,
   "metadata": {},
   "outputs": [],
   "source": []
  }
 ],
 "metadata": {
  "kernelspec": {
   "display_name": "Python 3 (ipykernel)",
   "language": "python",
   "name": "python3"
  },
  "language_info": {
   "codemirror_mode": {
    "name": "ipython",
    "version": 3
   },
   "file_extension": ".py",
   "mimetype": "text/x-python",
   "name": "python",
   "nbconvert_exporter": "python",
   "pygments_lexer": "ipython3",
   "version": "3.9.1"
  }
 },
 "nbformat": 4,
 "nbformat_minor": 1
}