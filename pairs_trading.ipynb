{
 "cells": [
  {
   "cell_type": "markdown",
   "metadata": {
    "collapsed": true
   },
   "source": [
    "# Basic Idea\n",
    "\n",
    "<b>We will create a semi-automatic algorithm that will alert to buy or sell in real-time.</br>\n",
    "This will be done in 4 steps: </b></br>\n",
    "1) Find 2 assets that move similarly with eachother over the past X periods of time. </br>\n",
    "2) Calculate the ratio between them.</br>\n",
    "3) Find the correct signal to buy or sell the assets, by their standard deviation from the mean.</br>\n",
    "4) Alert buy / sell."
   ]
  },
  {
   "cell_type": "markdown",
   "metadata": {},
   "source": [
    "# Basic Concepts\n",
    "<b>Let's go over some of the concpets we'll use in this project:</b></br>\n",
    "1) <u>Cointegration:</u> Similar to correlation. Means that the ratio between two series will vary around a mean. </br>  The two series, Y and X follow the follwing: Y = ⍺ X + e where ⍺ is the constant ratio and e is white noise</br>\n",
    "In plain terms, it means that the ratio between the two financial time series will vary around a constant mean </br>\n",
    "2) <u>Stationarity:</u> A stochastic process whose unconditional joint probability distribution does not change when shifted in time. (basically - not time dependant). </br>\n",
    "3) <u>Auto-corelation</u>: Similar to the correlation between two different time series, but autocorrelation uses the same time series twice: once in its original form and once lagged one or more time periods. Auto-correlation is some kind of Stationarity.</br>\n",
    "4) <u>P-value</u>: The probability of obtaining test results at least as extreme as the results actually observed, under the assumption that the null hypothesis is correct. </br> We will use it to test for conitegration. </br>\n",
    "\n",
    "<u>VECM & VAR</u>: Vector Error Correction Model & Vector Autoregressive.\n"
   ]
  },
  {
   "cell_type": "markdown",
   "metadata": {},
   "source": []
  },
  {
   "cell_type": "markdown",
   "metadata": {},
   "source": [
    "# Project requirements"
   ]
  },
  {
   "cell_type": "code",
   "execution_count": 61,
   "metadata": {
    "pycharm": {
     "is_executing": true
    }
   },
   "outputs": [],
   "source": [
    "from asyncio import threads\n",
    "import numpy as np\n",
    "import pandas as pd\n",
    "import statsmodels\n",
    "import statsmodels.api as sm\n",
    "from statsmodels.tsa.stattools import coint, adfuller\n",
    "import yfinance as yf\n",
    "from yahoo_fin.stock_info import get_data\n",
    "from datetime import datetime\n",
    "import matplotlib.pyplot as plt\n",
    "import plotly.graph_objs as go\n",
    "from statsmodels.graphics.tsaplots import plot_acf\n",
    "from matplotlib import pyplot"
   ]
  },
  {
   "cell_type": "markdown",
   "metadata": {},
   "source": [
    "# Data that will be used\n",
    "We will examine ETFs of tech companies.</br>\n",
    "Our assumption is that each of them is stationary, and that they will probably be cointegrated, or at least correlated. </br>\n",
    "We will be looking at the following ETFs: </br>\n",
    "* VGT\n",
    "* XLK\n",
    "* SMH\n",
    "* SOXX\n",
    "* IYW \n",
    "\n",
    "Which are the Top 5 ETFs considering total assets and 5 years look back window profits. ([etfdb](https://etfdb.com/etfdb-category/technology-equities/))"
   ]
  },
  {
   "cell_type": "markdown",
   "metadata": {},
   "source": [
    "# Loading data"
   ]
  },
  {
   "cell_type": "code",
   "execution_count": 47,
   "metadata": {
    "pycharm": {
     "is_executing": true
    }
   },
   "outputs": [
    {
     "data": {
      "text/html": [
       "<div>\n",
       "<style scoped>\n",
       "    .dataframe tbody tr th:only-of-type {\n",
       "        vertical-align: middle;\n",
       "    }\n",
       "\n",
       "    .dataframe tbody tr th {\n",
       "        vertical-align: top;\n",
       "    }\n",
       "\n",
       "    .dataframe thead th {\n",
       "        text-align: right;\n",
       "    }\n",
       "</style>\n",
       "<table border=\"1\" class=\"dataframe\">\n",
       "  <thead>\n",
       "    <tr style=\"text-align: right;\">\n",
       "      <th></th>\n",
       "      <th>Close_iyw</th>\n",
       "      <th>Close_vgt</th>\n",
       "      <th>Close_xlk</th>\n",
       "      <th>Close_smh</th>\n",
       "      <th>Close_soxx</th>\n",
       "    </tr>\n",
       "    <tr>\n",
       "      <th>Date</th>\n",
       "      <th></th>\n",
       "      <th></th>\n",
       "      <th></th>\n",
       "      <th></th>\n",
       "      <th></th>\n",
       "    </tr>\n",
       "  </thead>\n",
       "  <tbody>\n",
       "    <tr>\n",
       "      <th>2004-01-30</th>\n",
       "      <td>11.002267</td>\n",
       "      <td>42.118591</td>\n",
       "      <td>16.467768</td>\n",
       "      <td>36.527382</td>\n",
       "      <td>55.197609</td>\n",
       "    </tr>\n",
       "    <tr>\n",
       "      <th>2004-02-02</th>\n",
       "      <td>10.987015</td>\n",
       "      <td>42.152897</td>\n",
       "      <td>16.467768</td>\n",
       "      <td>36.048595</td>\n",
       "      <td>54.348404</td>\n",
       "    </tr>\n",
       "    <tr>\n",
       "      <th>2004-02-03</th>\n",
       "      <td>11.030588</td>\n",
       "      <td>41.895458</td>\n",
       "      <td>16.491024</td>\n",
       "      <td>36.361984</td>\n",
       "      <td>54.569199</td>\n",
       "    </tr>\n",
       "    <tr>\n",
       "      <th>2004-02-04</th>\n",
       "      <td>10.677644</td>\n",
       "      <td>40.633953</td>\n",
       "      <td>16.088049</td>\n",
       "      <td>35.326054</td>\n",
       "      <td>52.921757</td>\n",
       "    </tr>\n",
       "    <tr>\n",
       "      <th>2004-02-05</th>\n",
       "      <td>10.712505</td>\n",
       "      <td>40.839931</td>\n",
       "      <td>16.111300</td>\n",
       "      <td>35.430523</td>\n",
       "      <td>53.626579</td>\n",
       "    </tr>\n",
       "    <tr>\n",
       "      <th>...</th>\n",
       "      <td>...</td>\n",
       "      <td>...</td>\n",
       "      <td>...</td>\n",
       "      <td>...</td>\n",
       "      <td>...</td>\n",
       "    </tr>\n",
       "    <tr>\n",
       "      <th>2022-05-02</th>\n",
       "      <td>91.500000</td>\n",
       "      <td>373.269989</td>\n",
       "      <td>143.570007</td>\n",
       "      <td>236.539993</td>\n",
       "      <td>414.160004</td>\n",
       "    </tr>\n",
       "    <tr>\n",
       "      <th>2022-05-03</th>\n",
       "      <td>91.620003</td>\n",
       "      <td>373.510010</td>\n",
       "      <td>143.820007</td>\n",
       "      <td>238.479996</td>\n",
       "      <td>417.589996</td>\n",
       "    </tr>\n",
       "    <tr>\n",
       "      <th>2022-05-04</th>\n",
       "      <td>94.970001</td>\n",
       "      <td>386.459991</td>\n",
       "      <td>148.869995</td>\n",
       "      <td>246.660004</td>\n",
       "      <td>433.790009</td>\n",
       "    </tr>\n",
       "    <tr>\n",
       "      <th>2022-05-05</th>\n",
       "      <td>90.150002</td>\n",
       "      <td>366.730011</td>\n",
       "      <td>141.710007</td>\n",
       "      <td>235.080002</td>\n",
       "      <td>412.779999</td>\n",
       "    </tr>\n",
       "    <tr>\n",
       "      <th>2022-05-06</th>\n",
       "      <td>89.110001</td>\n",
       "      <td>362.750000</td>\n",
       "      <td>140.570007</td>\n",
       "      <td>232.669998</td>\n",
       "      <td>409.100006</td>\n",
       "    </tr>\n",
       "  </tbody>\n",
       "</table>\n",
       "<p>4600 rows × 5 columns</p>\n",
       "</div>"
      ],
      "text/plain": [
       "            Close_iyw   Close_vgt   Close_xlk   Close_smh  Close_soxx\n",
       "Date                                                                 \n",
       "2004-01-30  11.002267   42.118591   16.467768   36.527382   55.197609\n",
       "2004-02-02  10.987015   42.152897   16.467768   36.048595   54.348404\n",
       "2004-02-03  11.030588   41.895458   16.491024   36.361984   54.569199\n",
       "2004-02-04  10.677644   40.633953   16.088049   35.326054   52.921757\n",
       "2004-02-05  10.712505   40.839931   16.111300   35.430523   53.626579\n",
       "...               ...         ...         ...         ...         ...\n",
       "2022-05-02  91.500000  373.269989  143.570007  236.539993  414.160004\n",
       "2022-05-03  91.620003  373.510010  143.820007  238.479996  417.589996\n",
       "2022-05-04  94.970001  386.459991  148.869995  246.660004  433.790009\n",
       "2022-05-05  90.150002  366.730011  141.710007  235.080002  412.779999\n",
       "2022-05-06  89.110001  362.750000  140.570007  232.669998  409.100006\n",
       "\n",
       "[4600 rows x 5 columns]"
      ]
     },
     "execution_count": 47,
     "metadata": {},
     "output_type": "execute_result"
    }
   ],
   "source": [
    "vgt = yf.Ticker('VGT').history(period='max')\n",
    "xlk = yf.Ticker('XLK').history(period='max')\n",
    "smh = yf.Ticker('SMH').history(period='max')\n",
    "soxx = yf.Ticker('SOXX').history(period='max')\n",
    "iyw = yf.Ticker('IYW').history(period='max')\n",
    "\n",
    "# merge all ETFs data frames to one, by Close tag\n",
    "vgt_xlk = pd.merge(left = vgt[['Close']], right = xlk[['Close']], left_index = True, right_index = True, \n",
    "              suffixes = ('_vgt', '_xlk'))\n",
    "smh_soxx = pd.merge(left = smh[['Close']], right = soxx[['Close']], left_index = True, right_index = True, \n",
    "              suffixes = ('_smh', '_soxx'))\n",
    "combined = pd.merge(left = vgt_xlk, right = smh_soxx, left_index = True, right_index = True)\n",
    "all = pd.merge(left = iyw[['Close']], right = combined, left_index = True, right_index = True)\n",
    "all.rename(columns={'Close': 'Close_iyw'}, inplace=True)\n",
    "\n",
    "all"
   ]
  },
  {
   "cell_type": "markdown",
   "metadata": {},
   "source": [
    "# Ploting Auto-Correlation Functions (ACFs)\n",
    "We'll see that the ETFs remain centerd even when lagged - which points that they are somewhat stationary."
   ]
  },
  {
   "cell_type": "code",
   "execution_count": 44,
   "metadata": {},
   "outputs": [
    {
     "data": {
      "image/png": "[encoded data removed]",
      "text/plain": [
       "<Figure size 432x288 with 1 Axes>"
      ]
     },
     "metadata": {
      "needs_background": "light"
     },
     "output_type": "display_data"
    },
    {
     "data": {
      "image/png": "[encoded data removed]",
      "text/plain": [
       "<Figure size 432x288 with 1 Axes>"
      ]
     },
     "metadata": {
      "needs_background": "light"
     },
     "output_type": "display_data"
    },
    {
     "data": {
      "image/png": "[encoded data removed]",
      "text/plain": [
       "<Figure size 432x288 with 1 Axes>"
      ]
     },
     "metadata": {
      "needs_background": "light"
     },
     "output_type": "display_data"
    },
    {
     "data": {
      "image/png": "[encoded data removed]",
      "text/plain": [
       "<Figure size 432x288 with 1 Axes>"
      ]
     },
     "metadata": {
      "needs_background": "light"
     },
     "output_type": "display_data"
    },
    {
     "data": {
      "image/png": "[encoded data removed]",
      "text/plain": [
       "<Figure size 432x288 with 1 Axes>"
      ]
     },
     "metadata": {
      "needs_background": "light"
     },
     "output_type": "display_data"
    }
   ],
   "source": [
    "# plots the autocorrelation plots for each stock's closing price at 75 lags\n",
    "for i in all:\n",
    "    plot_acf(all[i], lags = 75)\n",
    "    pyplot.title('ACF for %s' % i) \n",
    "    pyplot.show()"
   ]
  },
  {
   "cell_type": "markdown",
   "metadata": {},
   "source": [
    "# Check for Stationarity\n",
    "We'll now use Augmented Dickey-Fuller test for Non-Differenced Variables AND for Differenced Variables.\n",
    "We'll find if the serieses are integrated of order 1 or of order 0.\n",
    "The null hypothesis is the data are non-stationary, so we want low p-values to tell us our data are stationary.\n",
    "\n",
    "The results below strongly support the hypothesis that the stocks are integrated I(1). Thus, These stock prices need to be differenced once prior to modeling."
   ]
  },
  {
   "cell_type": "code",
   "execution_count": 51,
   "metadata": {
    "pycharm": {
     "is_executing": true
    }
   },
   "outputs": [
    {
     "name": "stdout",
     "output_type": "stream",
     "text": [
      "========Testing for order 0:\n",
      "ADF Statistic with n for Close_iyw: 2.934052\n",
      "p-value: 0.999727\n",
      "ADF Statistic with c for Close_iyw: 1.614923\n",
      "p-value: 0.997902\n",
      "ADF Statistic with ct for Close_iyw: -0.652237\n",
      "p-value: 0.976105\n",
      "ADF Statistic with n for Close_vgt: 3.323898\n",
      "p-value: 0.999972\n",
      "ADF Statistic with c for Close_vgt: 1.921108\n",
      "p-value: 0.998561\n",
      "ADF Statistic with ct for Close_vgt: -0.517062\n",
      "p-value: 0.982750\n",
      "ADF Statistic with n for Close_xlk: 3.593011\n",
      "p-value: 0.999996\n",
      "ADF Statistic with c for Close_xlk: 2.192962\n",
      "p-value: 0.998877\n",
      "ADF Statistic with ct for Close_xlk: -0.288442\n",
      "p-value: 0.989779\n",
      "ADF Statistic with n for Close_smh: 2.290177\n",
      "p-value: 0.996004\n",
      "ADF Statistic with c for Close_smh: 1.294503\n",
      "p-value: 0.996578\n",
      "ADF Statistic with ct for Close_smh: -0.754298\n",
      "p-value: 0.969325\n",
      "ADF Statistic with n for Close_soxx: 2.587020\n",
      "p-value: 0.998668\n",
      "ADF Statistic with c for Close_soxx: 1.527263\n",
      "p-value: 0.997622\n",
      "ADF Statistic with ct for Close_soxx: -0.571419\n",
      "p-value: 0.980354\n",
      "=============================\n",
      "========Testing for order 1:\n",
      "ADF Statistic with n for Close_iyw: -11.058267\n",
      "p-value: 0.000000\n",
      "ADF Statistic with c for Close_iyw: -11.297848\n",
      "p-value: 0.000000\n",
      "ADF Statistic with ct for Close_iyw: -11.508134\n",
      "p-value: 0.000000\n",
      "ADF Statistic with n for Close_vgt: -11.162313\n",
      "p-value: 0.000000\n",
      "ADF Statistic with c for Close_vgt: -11.426531\n",
      "p-value: 0.000000\n",
      "ADF Statistic with ct for Close_vgt: -11.665053\n",
      "p-value: 0.000000\n",
      "ADF Statistic with n for Close_xlk: -11.318709\n",
      "p-value: 0.000000\n",
      "ADF Statistic with c for Close_xlk: -11.619023\n",
      "p-value: 0.000000\n",
      "ADF Statistic with ct for Close_xlk: -11.909089\n",
      "p-value: 0.000000\n",
      "ADF Statistic with n for Close_smh: -10.593221\n",
      "p-value: 0.000000\n",
      "ADF Statistic with c for Close_smh: -10.745817\n",
      "p-value: 0.000000\n",
      "ADF Statistic with ct for Close_smh: -10.957141\n",
      "p-value: 0.000000\n",
      "ADF Statistic with n for Close_soxx: -10.646325\n",
      "p-value: 0.000000\n",
      "ADF Statistic with c for Close_soxx: -10.810036\n",
      "p-value: 0.000000\n",
      "ADF Statistic with ct for Close_soxx: -11.020088\n",
      "p-value: 0.000000\n"
     ]
    }
   ],
   "source": [
    "print(\"========Testing for order 0:\")\n",
    "for i in all:\n",
    "    for j in ['n', 'c', 'ct']:\n",
    "        result = adfuller(all[i], regression = j)\n",
    "        print('ADF Statistic with %s for %s: %f' % (j, i, result[0]))\n",
    "        print('p-value: %f' % result[1])\n",
    "\n",
    "print(\"=============================\")\n",
    "print(\"========Testing for order 1:\")\n",
    "for i in all:\n",
    "    for j in ['n', 'c', 'ct']:\n",
    "        result = adfuller(all[i].diff().dropna(), regression = j)\n",
    "        print('ADF Statistic with %s for %s: %f' % (j, i, result[0]))\n",
    "        print('p-value: %f' % result[1])\n",
    "# stationarity(vgt.history(period='max'))\n",
    "# stationarity(Asset_2)"
   ]
  },
  {
   "cell_type": "markdown",
   "metadata": {},
   "source": [
    "# Find cointegration\n",
    "We will use the augmented Engle-Granger two-step cointegration test.</br>\n",
    "The null hypothesis is that there is no cointegration between the pairs. </br>\n",
    "Thus, we will be looking for low pvalue. </br>\n",
    "The threshold we are using is 0.05, which was randomly chosen."
   ]
  },
  {
   "cell_type": "code",
   "execution_count": 59,
   "metadata": {
    "pycharm": {
     "is_executing": true
    }
   },
   "outputs": [],
   "source": [
    "# auxiliary function to find all pairs given a list (nC2)\n",
    "def n_choose_2(lst):\n",
    "    pairs_list = []\n",
    "    for i in range(len(lst) - 1):\n",
    "        rest = lst[i+1:]\n",
    "        for j in range(len(rest)):\n",
    "            pairs_list.append([lst[i], rest[j]])\n",
    "    return pairs_list\n",
    "# n_choose_2(all)"
   ]
  },
  {
   "cell_type": "code",
   "execution_count": 57,
   "metadata": {
    "pycharm": {
     "is_executing": true
    }
   },
   "outputs": [
    {
     "ename": "KeyError",
     "evalue": "0",
     "output_type": "error",
     "traceback": [
      "\u001B[1;31m---------------------------------------------------------------------------\u001B[0m",
      "\u001B[1;31mKeyError\u001B[0m                                  Traceback (most recent call last)",
      "File \u001B[1;32m~\\AppData\\Local\\Programs\\Python\\Python39\\lib\\site-packages\\pandas\\core\\indexes\\base.py:3621\u001B[0m, in \u001B[0;36mIndex.get_loc\u001B[1;34m(self, key, method, tolerance)\u001B[0m\n\u001B[0;32m   3620\u001B[0m \u001B[38;5;28;01mtry\u001B[39;00m:\n\u001B[1;32m-> 3621\u001B[0m     \u001B[38;5;28;01mreturn\u001B[39;00m \u001B[38;5;28;43mself\u001B[39;49m\u001B[38;5;241;43m.\u001B[39;49m\u001B[43m_engine\u001B[49m\u001B[38;5;241;43m.\u001B[39;49m\u001B[43mget_loc\u001B[49m\u001B[43m(\u001B[49m\u001B[43mcasted_key\u001B[49m\u001B[43m)\u001B[49m\n\u001B[0;32m   3622\u001B[0m \u001B[38;5;28;01mexcept\u001B[39;00m \u001B[38;5;167;01mKeyError\u001B[39;00m \u001B[38;5;28;01mas\u001B[39;00m err:\n",
      "File \u001B[1;32m~\\AppData\\Local\\Programs\\Python\\Python39\\lib\\site-packages\\pandas\\_libs\\index.pyx:136\u001B[0m, in \u001B[0;36mpandas._libs.index.IndexEngine.get_loc\u001B[1;34m()\u001B[0m\n",
      "File \u001B[1;32m~\\AppData\\Local\\Programs\\Python\\Python39\\lib\\site-packages\\pandas\\_libs\\index.pyx:163\u001B[0m, in \u001B[0;36mpandas._libs.index.IndexEngine.get_loc\u001B[1;34m()\u001B[0m\n",
      "File \u001B[1;32mpandas\\_libs\\hashtable_class_helper.pxi:5198\u001B[0m, in \u001B[0;36mpandas._libs.hashtable.PyObjectHashTable.get_item\u001B[1;34m()\u001B[0m\n",
      "File \u001B[1;32mpandas\\_libs\\hashtable_class_helper.pxi:5206\u001B[0m, in \u001B[0;36mpandas._libs.hashtable.PyObjectHashTable.get_item\u001B[1;34m()\u001B[0m\n",
      "\u001B[1;31mKeyError\u001B[0m: 0",
      "\nThe above exception was the direct cause of the following exception:\n",
      "\u001B[1;31mKeyError\u001B[0m                                  Traceback (most recent call last)",
      "Input \u001B[1;32mIn [57]\u001B[0m, in \u001B[0;36m<cell line: 18>\u001B[1;34m()\u001B[0m\n\u001B[0;32m     15\u001B[0m     \u001B[38;5;28;01mreturn\u001B[39;00m cointegrated_pairs\n\u001B[0;32m     17\u001B[0m \u001B[38;5;66;03m# etf_price_list\u001B[39;00m\n\u001B[1;32m---> 18\u001B[0m \u001B[43mfind_cointegrated_pairs\u001B[49m\u001B[43m(\u001B[49m\u001B[38;5;28;43mall\u001B[39;49m\u001B[43m)\u001B[49m\n",
      "Input \u001B[1;32mIn [57]\u001B[0m, in \u001B[0;36mfind_cointegrated_pairs\u001B[1;34m(etf_price_list)\u001B[0m\n\u001B[0;32m      2\u001B[0m cointegrated_pairs \u001B[38;5;241m=\u001B[39m []\n\u001B[0;32m      3\u001B[0m \u001B[38;5;66;03m# filter the ETFs that aren't stationarity\u001B[39;00m\n\u001B[0;32m      4\u001B[0m \u001B[38;5;66;03m# etf_price_list = list(filter(lambda a: stationarity(a), etf_price_list))\u001B[39;00m\n\u001B[0;32m      5\u001B[0m \u001B[38;5;66;03m# create pairs\u001B[39;00m\n\u001B[1;32m----> 6\u001B[0m etf_pairs \u001B[38;5;241m=\u001B[39m \u001B[43mn_choose_2\u001B[49m\u001B[43m(\u001B[49m\u001B[43metf_price_list\u001B[49m\u001B[43m)\u001B[49m\n\u001B[0;32m      7\u001B[0m \u001B[38;5;28mprint\u001B[39m(etf_pairs)\n\u001B[0;32m      8\u001B[0m \u001B[38;5;66;03m# for each pair check for cointegration\u001B[39;00m\n",
      "Input \u001B[1;32mIn [55]\u001B[0m, in \u001B[0;36mn_choose_2\u001B[1;34m(lst)\u001B[0m\n\u001B[0;32m      5\u001B[0m     rest \u001B[38;5;241m=\u001B[39m lst[i\u001B[38;5;241m+\u001B[39m\u001B[38;5;241m1\u001B[39m:]\n\u001B[0;32m      6\u001B[0m     \u001B[38;5;28;01mfor\u001B[39;00m j \u001B[38;5;129;01min\u001B[39;00m \u001B[38;5;28mrange\u001B[39m(\u001B[38;5;28mlen\u001B[39m(rest)):\n\u001B[1;32m----> 7\u001B[0m         pairs_list\u001B[38;5;241m.\u001B[39mappend([\u001B[43mlst\u001B[49m\u001B[43m[\u001B[49m\u001B[43mi\u001B[49m\u001B[43m]\u001B[49m, rest[j]])\n\u001B[0;32m      8\u001B[0m \u001B[38;5;28;01mreturn\u001B[39;00m pairs_list\n",
      "File \u001B[1;32m~\\AppData\\Local\\Programs\\Python\\Python39\\lib\\site-packages\\pandas\\core\\frame.py:3505\u001B[0m, in \u001B[0;36mDataFrame.__getitem__\u001B[1;34m(self, key)\u001B[0m\n\u001B[0;32m   3503\u001B[0m \u001B[38;5;28;01mif\u001B[39;00m \u001B[38;5;28mself\u001B[39m\u001B[38;5;241m.\u001B[39mcolumns\u001B[38;5;241m.\u001B[39mnlevels \u001B[38;5;241m>\u001B[39m \u001B[38;5;241m1\u001B[39m:\n\u001B[0;32m   3504\u001B[0m     \u001B[38;5;28;01mreturn\u001B[39;00m \u001B[38;5;28mself\u001B[39m\u001B[38;5;241m.\u001B[39m_getitem_multilevel(key)\n\u001B[1;32m-> 3505\u001B[0m indexer \u001B[38;5;241m=\u001B[39m \u001B[38;5;28;43mself\u001B[39;49m\u001B[38;5;241;43m.\u001B[39;49m\u001B[43mcolumns\u001B[49m\u001B[38;5;241;43m.\u001B[39;49m\u001B[43mget_loc\u001B[49m\u001B[43m(\u001B[49m\u001B[43mkey\u001B[49m\u001B[43m)\u001B[49m\n\u001B[0;32m   3506\u001B[0m \u001B[38;5;28;01mif\u001B[39;00m is_integer(indexer):\n\u001B[0;32m   3507\u001B[0m     indexer \u001B[38;5;241m=\u001B[39m [indexer]\n",
      "File \u001B[1;32m~\\AppData\\Local\\Programs\\Python\\Python39\\lib\\site-packages\\pandas\\core\\indexes\\base.py:3623\u001B[0m, in \u001B[0;36mIndex.get_loc\u001B[1;34m(self, key, method, tolerance)\u001B[0m\n\u001B[0;32m   3621\u001B[0m     \u001B[38;5;28;01mreturn\u001B[39;00m \u001B[38;5;28mself\u001B[39m\u001B[38;5;241m.\u001B[39m_engine\u001B[38;5;241m.\u001B[39mget_loc(casted_key)\n\u001B[0;32m   3622\u001B[0m \u001B[38;5;28;01mexcept\u001B[39;00m \u001B[38;5;167;01mKeyError\u001B[39;00m \u001B[38;5;28;01mas\u001B[39;00m err:\n\u001B[1;32m-> 3623\u001B[0m     \u001B[38;5;28;01mraise\u001B[39;00m \u001B[38;5;167;01mKeyError\u001B[39;00m(key) \u001B[38;5;28;01mfrom\u001B[39;00m \u001B[38;5;21;01merr\u001B[39;00m\n\u001B[0;32m   3624\u001B[0m \u001B[38;5;28;01mexcept\u001B[39;00m \u001B[38;5;167;01mTypeError\u001B[39;00m:\n\u001B[0;32m   3625\u001B[0m     \u001B[38;5;66;03m# If we have a listlike key, _check_indexing_error will raise\u001B[39;00m\n\u001B[0;32m   3626\u001B[0m     \u001B[38;5;66;03m#  InvalidIndexError. Otherwise we fall through and re-raise\u001B[39;00m\n\u001B[0;32m   3627\u001B[0m     \u001B[38;5;66;03m#  the TypeError.\u001B[39;00m\n\u001B[0;32m   3628\u001B[0m     \u001B[38;5;28mself\u001B[39m\u001B[38;5;241m.\u001B[39m_check_indexing_error(key)\n",
      "\u001B[1;31mKeyError\u001B[0m: 0"
     ]
    }
   ],
   "source": [
    "def find_cointegrated_pairs(etf_price_list):\n",
    "    cointegrated_pairs = []\n",
    "    # filter the ETFs that aren't stationarity\n",
    "    # etf_price_list = list(filter(lambda a: stationarity(a), etf_price_list))\n",
    "    # create pairs\n",
    "    etf_pairs = n_choose_2(etf_price_list)\n",
    "    print(etf_pairs)\n",
    "    # for each pair check for cointegration\n",
    "    for pair in etf_pairs:\n",
    "        threshold = 0.05  \n",
    "        coin_result = coint(pair[0], pair[1])\n",
    "        print(result)\n",
    "        if result[1] <= threshold:\n",
    "            cointegrated_pairs.append(pair)\n",
    "    return cointegrated_pairs\n",
    "        \n",
    "# etf_price_list\n",
    "find_cointegrated_pairs(all)\n",
    "    "
   ]
  },
  {
   "cell_type": "markdown",
   "metadata": {},
   "source": [
    "# To add, backtesting and correlaiton and more\n",
    "https://medium.datadriveninvestor.com/creating-and-implementing-a-pairs-trading-strategy-from-scratch-658267bab249"
   ]
  },
  {
   "cell_type": "code",
   "execution_count": null,
   "metadata": {
    "pycharm": {
     "is_executing": true
    }
   },
   "outputs": [],
   "source": []
  },
  {
   "cell_type": "code",
   "execution_count": null,
   "metadata": {
    "pycharm": {
     "is_executing": true
    }
   },
   "outputs": [],
   "source": []
  },
  {
   "cell_type": "code",
   "execution_count": null,
   "metadata": {
    "pycharm": {
     "is_executing": true
    }
   },
   "outputs": [],
   "source": []
  }
 ],
 "metadata": {
  "kernelspec": {
   "display_name": "Python 3 (ipykernel)",
   "language": "python",
   "name": "python3"
  },
  "language_info": {
   "codemirror_mode": {
    "name": "ipython",
    "version": 3
   },
   "file_extension": ".py",
   "mimetype": "text/x-python",
   "name": "python",
   "nbconvert_exporter": "python",
   "pygments_lexer": "ipython3",
   "version": "3.9.1"
  }
 },
 "nbformat": 4,
 "nbformat_minor": 1
}