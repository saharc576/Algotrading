{
 "cells": [
  {
   "cell_type": "markdown",
   "metadata": {
    "collapsed": true
   },
   "source": [
    "# Basic Idea\n",
    "\n",
    "<b>We will create a semi-automatic algorithm that will alert to buy or sell in real-time.</br>\n",
    "This will be done in 4 steps: </b></br>\n",
    "1) Find a group of assets that move similarly with eachother over the past X periods of time. </br>\n",
    "2) Find the best pair amongst them.</br>\n",
    "3) Choose and calculate indicators to buy and sell.</br>\n",
    "4) Alert buy / sell."
   ]
  },
  {
   "cell_type": "markdown",
   "metadata": {},
   "source": [
    "# Basic Concepts\n",
    "<b>Let's go over some of the concpets we'll use in this project:</b></br>\n",
    "1) <u>Cointegration:</u> Similar to correlation. Means that the ratio between two series will vary around a mean. </br>  The two series, Y and X follow the follwing: Y = ⍺ X + e where ⍺ is the constant ratio and e is white noise</br>\n",
    "In plain terms, it means that the ratio between the two financial time series will vary around a constant mean </br>\n",
    "2) <u>Stationarity:</u> A stochastic process whose unconditional joint probability distribution does not change when shifted in time. </br>In plain terms, not time dependant. </br>\n",
    "3) <u>Auto-corelation</u>: Similar to the correlation between two different time series, but autocorrelation uses the same time series twice: once in its original form and once lagged one or more time periods. Auto-correlation is some kind of Stationarity.</br>\n",
    "4) <u>P-value</u>: The probability of obtaining test results at least as extreme as the results actually observed, under the assumption that the null hypothesis is correct. </br> We will use it to test for conitegration. </br>\n",
    "\n",
    "<u>VECM & VAR</u>: Vector Error Correction Model & Vector Autoregressive.\n"
   ]
  },
  {
   "cell_type": "markdown",
   "metadata": {},
   "source": [
    "# Project requirements"
   ]
  },
  {
   "cell_type": "code",
   "execution_count": 22,
   "metadata": {},
   "outputs": [],
   "source": [
    "from asyncio import threads\n",
    "import seaborn\n",
    "import numpy as np\n",
    "import pandas as pd\n",
    "import statsmodels\n",
    "import statsmodels.api as sm\n",
    "import statsmodels.tsa.stattools as ts\n",
    "from statsmodels.tsa.stattools import coint, adfuller\n",
    "import yfinance as yf\n",
    "from yahoo_fin.stock_info import get_data\n",
    "from datetime import datetime\n",
    "import matplotlib.pyplot as plt\n",
    "import plotly.graph_objs as go\n",
    "from statsmodels.graphics.tsaplots import plot_acf\n",
    "from matplotlib import pyplot\n",
    "from itertools import product"
   ]
  },
  {
   "cell_type": "markdown",
   "metadata": {},
   "source": [
    "# Data that will be used\n",
    "We will examine ETFs of tech companies.</br>\n",
    "Our assumption is that each of them is stationary, and that they will probably be cointegrated, or at least correlated. </br>\n",
    "We will be looking at the following ETFs: </br>\n",
    "* VGT\n",
    "* XLK\n",
    "* SMH\n",
    "* SOXX\n",
    "* IYW \n",
    "\n",
    "Which are the Top 5 ETFs considering total assets and 5 years look back window profits. ([etfdb](https://etfdb.com/etfdb-category/technology-equities/))"
   ]
  },
  {
   "cell_type": "markdown",
   "metadata": {},
   "source": [
    "# Loading data\n",
    "We use Yahoo Finance as our main data source. </br>\n",
    "Our calculations we'll be made by the closing price of each ETF."
   ]
  },
  {
   "cell_type": "code",
   "execution_count": 23,
   "metadata": {},
   "outputs": [
    {
     "data": {
      "text/html": [
       "<div>\n",
       "<style scoped>\n",
       "    .dataframe tbody tr th:only-of-type {\n",
       "        vertical-align: middle;\n",
       "    }\n",
       "\n",
       "    .dataframe tbody tr th {\n",
       "        vertical-align: top;\n",
       "    }\n",
       "\n",
       "    .dataframe thead th {\n",
       "        text-align: right;\n",
       "    }\n",
       "</style>\n",
       "<table border=\"1\" class=\"dataframe\">\n",
       "  <thead>\n",
       "    <tr style=\"text-align: right;\">\n",
       "      <th></th>\n",
       "      <th>Close_iyw</th>\n",
       "      <th>Close_vgt</th>\n",
       "      <th>Close_xlk</th>\n",
       "      <th>Close_smh</th>\n",
       "      <th>Close_soxx</th>\n",
       "    </tr>\n",
       "    <tr>\n",
       "      <th>Date</th>\n",
       "      <th></th>\n",
       "      <th></th>\n",
       "      <th></th>\n",
       "      <th></th>\n",
       "      <th></th>\n",
       "    </tr>\n",
       "  </thead>\n",
       "  <tbody>\n",
       "    <tr>\n",
       "      <th>2016-10-26</th>\n",
       "      <td>28.642506</td>\n",
       "      <td>113.432899</td>\n",
       "      <td>44.380341</td>\n",
       "      <td>63.859905</td>\n",
       "      <td>105.450760</td>\n",
       "    </tr>\n",
       "    <tr>\n",
       "      <th>2016-10-27</th>\n",
       "      <td>28.505602</td>\n",
       "      <td>112.866890</td>\n",
       "      <td>44.324345</td>\n",
       "      <td>63.673126</td>\n",
       "      <td>104.960922</td>\n",
       "    </tr>\n",
       "    <tr>\n",
       "      <th>2016-10-28</th>\n",
       "      <td>28.469570</td>\n",
       "      <td>112.923500</td>\n",
       "      <td>44.277668</td>\n",
       "      <td>63.308914</td>\n",
       "      <td>104.329849</td>\n",
       "    </tr>\n",
       "    <tr>\n",
       "      <th>2016-10-31</th>\n",
       "      <td>28.483982</td>\n",
       "      <td>112.932945</td>\n",
       "      <td>44.258999</td>\n",
       "      <td>63.757179</td>\n",
       "      <td>104.894997</td>\n",
       "    </tr>\n",
       "    <tr>\n",
       "      <th>2016-11-01</th>\n",
       "      <td>28.246193</td>\n",
       "      <td>112.017921</td>\n",
       "      <td>43.876339</td>\n",
       "      <td>63.168831</td>\n",
       "      <td>103.962486</td>\n",
       "    </tr>\n",
       "    <tr>\n",
       "      <th>...</th>\n",
       "      <td>...</td>\n",
       "      <td>...</td>\n",
       "      <td>...</td>\n",
       "      <td>...</td>\n",
       "      <td>...</td>\n",
       "    </tr>\n",
       "    <tr>\n",
       "      <th>2022-05-09</th>\n",
       "      <td>85.410004</td>\n",
       "      <td>347.130005</td>\n",
       "      <td>135.130005</td>\n",
       "      <td>220.889999</td>\n",
       "      <td>388.269989</td>\n",
       "    </tr>\n",
       "    <tr>\n",
       "      <th>2022-05-10</th>\n",
       "      <td>86.750000</td>\n",
       "      <td>352.170013</td>\n",
       "      <td>137.190002</td>\n",
       "      <td>226.600006</td>\n",
       "      <td>397.100006</td>\n",
       "    </tr>\n",
       "    <tr>\n",
       "      <th>2022-05-11</th>\n",
       "      <td>83.839996</td>\n",
       "      <td>340.109985</td>\n",
       "      <td>132.860001</td>\n",
       "      <td>219.649994</td>\n",
       "      <td>385.369995</td>\n",
       "    </tr>\n",
       "    <tr>\n",
       "      <th>2022-05-12</th>\n",
       "      <td>83.440002</td>\n",
       "      <td>337.609985</td>\n",
       "      <td>131.490005</td>\n",
       "      <td>220.690002</td>\n",
       "      <td>387.709991</td>\n",
       "    </tr>\n",
       "    <tr>\n",
       "      <th>2022-05-13</th>\n",
       "      <td>86.620003</td>\n",
       "      <td>350.380005</td>\n",
       "      <td>135.860001</td>\n",
       "      <td>232.259995</td>\n",
       "      <td>407.500000</td>\n",
       "    </tr>\n",
       "  </tbody>\n",
       "</table>\n",
       "<p>1397 rows × 5 columns</p>\n",
       "</div>"
      ],
      "text/plain": [
       "            Close_iyw   Close_vgt   Close_xlk   Close_smh  Close_soxx\n",
       "Date                                                                 \n",
       "2016-10-26  28.642506  113.432899   44.380341   63.859905  105.450760\n",
       "2016-10-27  28.505602  112.866890   44.324345   63.673126  104.960922\n",
       "2016-10-28  28.469570  112.923500   44.277668   63.308914  104.329849\n",
       "2016-10-31  28.483982  112.932945   44.258999   63.757179  104.894997\n",
       "2016-11-01  28.246193  112.017921   43.876339   63.168831  103.962486\n",
       "...               ...         ...         ...         ...         ...\n",
       "2022-05-09  85.410004  347.130005  135.130005  220.889999  388.269989\n",
       "2022-05-10  86.750000  352.170013  137.190002  226.600006  397.100006\n",
       "2022-05-11  83.839996  340.109985  132.860001  219.649994  385.369995\n",
       "2022-05-12  83.440002  337.609985  131.490005  220.690002  387.709991\n",
       "2022-05-13  86.620003  350.380005  135.860001  232.259995  407.500000\n",
       "\n",
       "[1397 rows x 5 columns]"
      ]
     },
     "execution_count": 23,
     "metadata": {},
     "output_type": "execute_result"
    }
   ],
   "source": [
    "tickers = ['VGT', 'XLK', 'SMH', 'SOXX', 'IYW']\n",
    "\n",
    "vgt = yf.Ticker('VGT').history(period='max', start=datetime(2016, 10, 27))\n",
    "xlk = yf.Ticker('XLK').history(period='max', start=datetime(2016, 10, 27))\n",
    "smh = yf.Ticker('SMH').history(period='max', start=datetime(2016, 10, 27))\n",
    "soxx = yf.Ticker('SOXX').history(period='max', start=datetime(2016, 10, 27))\n",
    "iyw = yf.Ticker('IYW').history(period='max', start=datetime(2016, 10, 27))\n",
    "\n",
    "# merge all ETFs data frames to one, by Close tag\n",
    "vgt_xlk = pd.merge(left = vgt[['Close']], right = xlk[['Close']], left_index = True, right_index = True, \n",
    "              suffixes = ('_vgt', '_xlk'))\n",
    "smh_soxx = pd.merge(left = smh[['Close']], right = soxx[['Close']], left_index = True, right_index = True, \n",
    "              suffixes = ('_smh', '_soxx'))\n",
    "combined = pd.merge(left = vgt_xlk, right = smh_soxx, left_index = True, right_index = True)\n",
    "all = pd.merge(left = iyw[['Close']], right = combined, left_index = True, right_index = True)\n",
    "all.rename(columns={'Close': 'Close_iyw'}, inplace=True)\n",
    "\n",
    "all"
   ]
  },
  {
   "cell_type": "code",
   "execution_count": 24,
   "metadata": {},
   "outputs": [],
   "source": [
    "def find_cointegrated_pairs(data):\n",
    "    n = data.shape[1]\n",
    "    score_matrix = np.zeros((n, n))\n",
    "    pvalue_matrix = np.ones((n, n))\n",
    "    keys = data.keys()\n",
    "    pairs = []\n",
    "    for i in range(n):\n",
    "        for j in range(i+1, n):\n",
    "            S1 = data[keys[i]]\n",
    "            S2 = data[keys[j]]\n",
    "            result = coint(S1, S2)\n",
    "            score = result[0]\n",
    "            pvalue = result[1]\n",
    "            score_matrix[i, j] = score\n",
    "            pvalue_matrix[i, j] = pvalue\n",
    "            if pvalue < 0.05:\n",
    "                pairs.append((keys[i], keys[j]))\n",
    "    return score_matrix, pvalue_matrix, pairs"
   ]
  },
  {
   "cell_type": "code",
   "execution_count": null,
   "metadata": {},
   "outputs": [
    {
     "name": "stdout",
     "output_type": "stream",
     "text": [
      "[('Close_smh', 'Close_soxx')]\n",
      "Error in callback <function flush_figures at 0x0000022568183EE0> (for post_execute):\n"
     ]
    }
   ],
   "source": [
    "# Heatmap to show the p-values of the cointegration test between each pair of\n",
    "# stocks. Only show the value in the upper-diagonal of the heatmap\n",
    "scores, pvalues, pairs = find_cointegrated_pairs(all)\n",
    "fig, ax = plt.subplots(figsize=(10,10))\n",
    "seaborn.heatmap(pvalues, xticklabels=tickers, yticklabels=tickers, cmap='RdYlGn_r' \n",
    "                , mask = (pvalues >= 0.05)\n",
    "                )\n",
    "print(pairs)"
   ]
  },
  {
   "cell_type": "markdown",
   "metadata": {},
   "source": [
    "**Our algorithm listed one cointegrated pair: SMH/SOXX. We can analyze their price patterns to make sure there is nothing weird going on.**"
   ]
  },
  {
   "cell_type": "code",
   "execution_count": null,
   "metadata": {},
   "outputs": [],
   "source": [
    "S1 = all['Close_smh']\n",
    "S2 = all['Close_soxx']\n",
    "\n",
    "score, pvalue, _ = coint(S1, S2)\n",
    "pvalue"
   ]
  },
  {
   "cell_type": "markdown",
   "metadata": {},
   "source": [
    "**As we can see, the p-value is less than 0.05, which means SMH and SOXX are indeed cointegrated pairs.**"
   ]
  },
  {
   "cell_type": "markdown",
   "metadata": {},
   "source": [
    "## Calculating the Ratio\n",
    "\n",
    "Now we can plot the ratio of the two time series."
   ]
  },
  {
   "cell_type": "code",
   "execution_count": null,
   "metadata": {},
   "outputs": [],
   "source": [
    "ratio = S1/S2\n",
    "ratio.plot(figsize=(12,6))\n",
    "plt.axhline(ratio.mean(), color='black')\n",
    "plt.xlim()\n",
    "plt.legend(['Price Ratio']);"
   ]
  },
  {
   "cell_type": "markdown",
   "metadata": {},
   "source": [
    "We now need to standardize this ratio because the absolute ratio might not be the most ideal way of analyzing this trend. For this, we need to use z-scores.\n",
    "\n",
    "A z-score is the number of standard deviations a datapoint is from the mean. More importantly, the nוmber of standard deviations above or below the population mean is from the raw score. The z-score is calculated by the follow:\n",
    "\n",
    "$$\\mathcal{z}_{i}=\\frac{x_{i}-\\bar{x}}{s} $$"
   ]
  },
  {
   "cell_type": "code",
   "execution_count": null,
   "metadata": {},
   "outputs": [],
   "source": [
    "def zscore(series):\n",
    "    return (series - series.mean()) / np.std(series)\n",
    "\n",
    "\n",
    "zscore(ratio).plot(figsize=(12,6))\n",
    "plt.axhline(zscore(ratio).mean())\n",
    "plt.axhline(1.0, color='red')\n",
    "plt.axhline(-1.0, color='green')\n",
    "plt.xlim()\n",
    "plt.show()"
   ]
  },
  {
   "cell_type": "markdown",
   "metadata": {},
   "source": [
    "By setting two other lines placed at the z-score of 1 and -1, we can clearly see that for the most part, any big divergences from the mean eventually converges back. This is exactly what we want for a pairs trading strategy."
   ]
  },
  {
   "cell_type": "markdown",
   "metadata": {},
   "source": [
    "## Setup rules\n",
    "\n",
    "We're going to use the ratio time series that we've created to see if it tells us whether to buy or sell a particular moment in time. We'll start off by creating a prediction variable $Y$. If the ratio is positive, it will signal a \"buy,\" otherwise, it will signal a \"sell\". The prediction model is as follows:\n",
    "\n",
    "$$Y_{t} = sign(Ratio_{t+1}-Ratio_{t}) $$\n",
    "\n",
    "* When you buy the ratio, you actully buy S1 and sell S2\n",
    "* When you sell the ratio, you actully sell S1 and buy S2\n",
    "\n",
    "##### Rules\n",
    "* Buy(1) whenever the z-score is below -1, meaning we expect the ratio to increase.\n",
    "* Sell(-1) whenever the z-score is above 1, meaning we expect the ratio to decrease.\n",
    "\n",
    "#### We will split to train and test, to test our performance later"
   ]
  },
  {
   "cell_type": "code",
   "execution_count": null,
   "metadata": {},
   "outputs": [],
   "source": [
    "# create ratios dataframe\n",
    "ratios = all['Close_smh'] / all['Close_soxx']\n",
    "# split data 80-20\n",
    "row_to_split_on = int(len(ratios) * 0.8)\n",
    "train = ratios[:row_to_split_on]\n",
    "test = ratios[row_to_split_on:]\n",
    "print(f\"spliting on {row_to_split_on}, train length is: {len(train)}, test length is {len(test)}\")"
   ]
  },
  {
   "cell_type": "markdown",
   "metadata": {},
   "source": [
    "#### Indicators\n",
    "Our main hypothessis is that the prices will return to the mean.\n",
    "Therfore, we will use several indicators and metrics which involve the mean:\n",
    "\n",
    "**Key point: choosing the look back window.** \n",
    "Here we choose randomly.\n",
    "\n",
    "* 60 day Moving Average of Ratio\n",
    "* 5 day Moving Average of Ratio\n",
    "* 60 day Standard Deviation\n",
    "* z score"
   ]
  },
  {
   "cell_type": "code",
   "execution_count": null,
   "metadata": {},
   "outputs": [],
   "source": [
    "ratios_mavg5 = train.rolling(window=5, center=False).mean()\n",
    "ratios_mavg60 = train.rolling(window=60, center=False).mean()\n",
    "std_60 = train.rolling(window=60, center=False).std()\n",
    "zscore_60_5 = (ratios_mavg5 - ratios_mavg60)/std_60\n",
    "plt.figure(figsize=(12, 6))\n",
    "plt.plot(train.index, train.values)\n",
    "plt.plot(ratios_mavg5.index, ratios_mavg5.values)\n",
    "plt.plot(ratios_mavg60.index, ratios_mavg60.values)\n",
    "plt.legend(['Ratio', '5d Ratio MA', '60d Ratio MA'])\n",
    "\n",
    "plt.ylabel('Ratio')\n",
    "plt.show()"
   ]
  },
  {
   "cell_type": "code",
   "execution_count": null,
   "metadata": {},
   "outputs": [],
   "source": [
    "plt.figure(figsize=(12,6))\n",
    "zscore_60_5.plot()\n",
    "plt.axhline(0, color='black')\n",
    "plt.axhline(1.0, color='red', linestyle='--')\n",
    "plt.axhline(-1.0, color='green', linestyle='--')\n",
    "plt.legend(['Rolling Ratio z-Score', 'Mean', '+1', '-1'])\n",
    "plt.show()"
   ]
  },
  {
   "cell_type": "code",
   "execution_count": null,
   "metadata": {},
   "outputs": [],
   "source": [
    "# calculate the metrcis\n",
    "ratios_mavg5 = train.rolling(window=5, center=False).mean()\n",
    "ratios_mavg60 = train.rolling(window=60, center=False).mean()\n",
    "std_60 = train.rolling(window=60, center=False).std()\n",
    "zscore_60_5 = (ratios_mavg5 - ratios_mavg60)/std_60\n",
    "\n",
    "\n",
    "plt.figure(figsize=(12,6))\n",
    "\n",
    "train.plot()\n",
    "buy = train.copy()\n",
    "sell = train.copy()\n",
    "buy[zscore_60_5>-1] = 0\n",
    "sell[zscore_60_5<1] = 0\n",
    "buy.plot(color='g', linestyle='None', marker='^')\n",
    "sell.plot(color='r', linestyle='None', marker='^')\n",
    "x1, x2, y1, y2 = plt.axis()\n",
    "plt.axis((x1, x2, ratios.min(), ratios.max()))\n",
    "\n",
    "plt.xlim()\n",
    "plt.legend(['Ratio', 'Buy Signal', 'Sell Signal'])\n",
    "plt.show()"
   ]
  },
  {
   "cell_type": "markdown",
   "metadata": {},
   "source": [
    "# Calculating results - POC"
   ]
  },
  {
   "cell_type": "code",
   "execution_count": null,
   "metadata": {},
   "outputs": [],
   "source": [
    "\n",
    "# Trade using a simple strategy\n",
    "def trade(S1, S2, window1, window2, zscore_sell=1):\n",
    "    zscore_buy = -1 * zscore_sell\n",
    "    \n",
    "    # check parameters validity.\n",
    "    if (window1 == 0) or (window2 == 0):\n",
    "        return 0\n",
    "    \n",
    "    # Compute rolling mean and rolling standard deviation\n",
    "    ratios = S1/S2\n",
    "    ma1 = ratios.rolling(window=window1,\n",
    "                               center=False).mean()\n",
    "    ma2 = ratios.rolling(window=window2,\n",
    "                               center=False).mean()\n",
    "    std = ratios.rolling(window=window2,\n",
    "                        center=False).std()\n",
    "    zscore = (ma1 - ma2)/std\n",
    "    \n",
    "    # Simulate trading\n",
    "    # Start with no positions\n",
    "    start_money_const = 100\n",
    "    money = start_money_const\n",
    "    countS1 = 0\n",
    "    countS2 = 0\n",
    "    for i in range(len(ratios)):\n",
    "#         print(\"z-score is\", zscore[i])\n",
    "        # Buy long if the z-score is < zscore_buy\n",
    "        if zscore[i] < zscore_buy:\n",
    "            money += S1[i] - S2[i] * ratios[i]\n",
    "            countS1 -= 1\n",
    "            countS2 += ratios[i]\n",
    "#             print('Selling Ratio %s %s %s %s'%(money, ratios[i], countS1,countS2))\n",
    "        # Sell short if the z-score is > zscore_sell\n",
    "        elif zscore[i] > zscore_sell:\n",
    "            money -= S1[i] - S2[i] * ratios[i]\n",
    "            countS1 += 1\n",
    "            countS2 -= ratios[i]\n",
    "#             print('Buying Ratio %s %s %s %s'%(money,ratios[i], countS1,countS2))\n",
    "        # Clear positions and take profits if the z-score between -0.3 and 0.3 \n",
    "        elif abs(zscore[i]) < 0.3:\n",
    "            money += S1[i] * countS1 + S2[i] * countS2\n",
    "            countS1 = 0\n",
    "            countS2 = 0\n",
    "#             print('Exit pos %s %s %s %s'%(money,ratios[i], countS1,countS2))\n",
    "            \n",
    "            \n",
    "    return money - start_money_const"
   ]
  },
  {
   "cell_type": "code",
   "execution_count": null,
   "metadata": {},
   "outputs": [],
   "source": [
    "smh_train = all['Close_smh'].iloc[:1000]\n",
    "soxx_train = all['Close_soxx'].iloc[:1000]\n",
    "trade(smh_train, soxx_train, 60, 5)"
   ]
  },
  {
   "cell_type": "markdown",
   "metadata": {},
   "source": [
    "### As we can see, the simple algorithm works, and it actually has great results"
   ]
  },
  {
   "cell_type": "markdown",
   "metadata": {},
   "source": [
    "# Creating A Model\n",
    "We will now improve our strategy by optimizing the profits. </br>\n",
    "This will be done by brute-force grid-search of the following parameters:</br>\n",
    "1. look back window of ratio.\n",
    "2. look back window of standard deviation.\n",
    "3. z-index"
   ]
  },
  {
   "cell_type": "code",
   "execution_count": null,
   "metadata": {},
   "outputs": [],
   "source": [
    "ratio_windows = [i for i in range(2, 21)]\n",
    "std_windows = [i for i in range(40, 90)]\n",
    "zindex_windows = [round(i,1) for i in np.arange(0.1, 1.1, 0.1)]\n",
    "combinations = list(list(product(ratio_windows, std_windows, zindex_windows)))\n",
    "print(f\"number of combinations is: {len(combinations)}\")"
   ]
  },
  {
   "cell_type": "code",
   "execution_count": null,
   "metadata": {},
   "outputs": [],
   "source": [
    "best_combination = combinations[0]\n",
    "scores = []\n",
    "best_score = -100000\n",
    "tracking = 0\n",
    "for ratio_window, std_window, zindex_window in combinations:\n",
    "    score = trade(smh_train, soxx_train, ratio_window, std_window, zindex_window)\n",
    "    if score > best_score:\n",
    "        best_combination = (ratio_window, std_window, zindex_window)\n",
    "    tracking += 1\n",
    "    if tracking % 1000 == 0:\n",
    "        print(f\"after {tracking} iterations\")\n",
    "    scores.append(score)\n",
    "print(f\"best combination is: {best_combination} with score: {best_score}\")\n",
    "return scores"
   ]
  },
  {
   "cell_type": "markdown",
   "metadata": {},
   "source": [
    "# Results\n",
    "Now we can plot a graph to test the results we have received"
   ]
  },
  {
   "cell_type": "code",
   "execution_count": null,
   "metadata": {},
   "outputs": [],
   "source": []
  }
 ],
 "metadata": {
  "interpreter": {
   "hash": "11ebdd5ddf7df85be73c20586ff5fe172379122ff41142685c484cce480fa77e"
  },
  "kernelspec": {
   "display_name": "Python 3 (ipykernel)",
   "language": "python",
   "name": "python3"
  },
  "language_info": {
   "codemirror_mode": {
    "name": "ipython",
    "version": 3
   },
   "file_extension": ".py",
   "mimetype": "text/x-python",
   "name": "python",
   "nbconvert_exporter": "python",
   "pygments_lexer": "ipython3",
   "version": "3.9.1"
  }
 },
 "nbformat": 4,
 "nbformat_minor": 1
}