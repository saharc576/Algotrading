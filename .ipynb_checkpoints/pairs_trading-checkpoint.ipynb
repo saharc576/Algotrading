{
 "cells": [
  {
   "cell_type": "markdown",
   "metadata": {
    "collapsed": true
   },
   "source": [
    "# Basic Idea\n",
    "\n",
    "<b>We will create a semi-automatic algorithm that will alert to buy or sell in real-time.</br>\n",
    "This will be done in 4 steps: </b></br>\n",
    "1) Find 2 assets that move similarly with eachother over the past X periods of time. </br>\n",
    "2) Calculate the ratio between them.</br>\n",
    "3) Find the correct signal to buy or sell the assets, by their standard deviation from the mean.</br>\n",
    "4) Alert buy / sell."
   ]
  },
  {
   "cell_type": "markdown",
   "metadata": {},
   "source": [
    "# Basic Concepts\n",
    "<b>Let's go over some of the concpets we'll use in this project:</b></br>\n",
    "1) <u>Cointegration:</u> Similar to correlation. Means that the ratio between two series will vary around a mean. </br>  The two series, Y and X follow the follwing: Y = ⍺ X + e where ⍺ is the constant ratio and e is white noise</br>\n",
    "In plain terms, it means that the ratio between the two financial time series will vary around a constant mean </br>\n",
    "</br>\n",
    "2) <u>Stationarity:</u> A stochastic process whose unconditional joint probability distribution does not change when shifted in time. (basically - not time dependant). </br>\n",
    "3) <u>P-value</u>: The probability of obtaining test results at least as extreme as the results actually observed, under the assumption that the null hypothesis is correct. </br> We will use it to test for conitegration. "
   ]
  },
  {
   "cell_type": "markdown",
   "metadata": {},
   "source": []
  },
  {
   "cell_type": "markdown",
   "metadata": {},
   "source": [
    "# Project requirements"
   ]
  },
  {
   "cell_type": "code",
   "execution_count": 34,
   "metadata": {},
   "outputs": [],
   "source": [
    "from asyncio import threads\n",
    "import numpy as np\n",
    "import pandas as pd\n",
    "import statsmodels\n",
    "import statsmodels.api as sm\n",
    "from statsmodels.tsa.stattools import coint, adfuller\n",
    "import yfinance as yf\n",
    "from yahoo_fin.stock_info import get_data\n",
    "from datetime import datetime\n",
    "import matplotlib.pyplot as plt\n",
    "import plotly.graph_objs as go"
   ]
  },
  {
   "cell_type": "markdown",
   "metadata": {},
   "source": [
    "# Data that will be used\n",
    "We will examine ETFs of tech companies.</br>\n",
    "Our assumption is that each of them is stationary, and that they will probably be cointegrated, or at least correlated. </br>\n",
    "We will be looking at the following ETFs: </br>\n",
    "* VGT\n",
    "* XLK\n",
    "* SMH\n",
    "* SOXX\n",
    "* IYW \n",
    "\n",
    "Which are the Top 5 ETFs considering total assets and 5 years look back window profits. ([etfdb](https://etfdb.com/etfdb-category/technology-equities/))"
   ]
  },
  {
   "cell_type": "markdown",
   "metadata": {},
   "source": [
    "# Loading data"
   ]
  },
  {
   "cell_type": "code",
   "execution_count": 59,
   "metadata": {},
   "outputs": [
    {
     "data": {
      "text/html": [
       "<div>\n",
       "<style scoped>\n",
       "    .dataframe tbody tr th:only-of-type {\n",
       "        vertical-align: middle;\n",
       "    }\n",
       "\n",
       "    .dataframe tbody tr th {\n",
       "        vertical-align: top;\n",
       "    }\n",
       "\n",
       "    .dataframe thead th {\n",
       "        text-align: right;\n",
       "    }\n",
       "</style>\n",
       "<table border=\"1\" class=\"dataframe\">\n",
       "  <thead>\n",
       "    <tr style=\"text-align: right;\">\n",
       "      <th></th>\n",
       "      <th>Open</th>\n",
       "      <th>High</th>\n",
       "      <th>Low</th>\n",
       "      <th>Close</th>\n",
       "      <th>Volume</th>\n",
       "      <th>Dividends</th>\n",
       "      <th>Stock Splits</th>\n",
       "    </tr>\n",
       "    <tr>\n",
       "      <th>Date</th>\n",
       "      <th></th>\n",
       "      <th></th>\n",
       "      <th></th>\n",
       "      <th></th>\n",
       "      <th></th>\n",
       "      <th></th>\n",
       "      <th></th>\n",
       "    </tr>\n",
       "  </thead>\n",
       "  <tbody>\n",
       "    <tr>\n",
       "      <th>2004-01-30</th>\n",
       "      <td>41.826827</td>\n",
       "      <td>42.255909</td>\n",
       "      <td>41.826827</td>\n",
       "      <td>42.118603</td>\n",
       "      <td>117600</td>\n",
       "      <td>0.0</td>\n",
       "      <td>0</td>\n",
       "    </tr>\n",
       "    <tr>\n",
       "      <th>2004-02-02</th>\n",
       "      <td>42.135741</td>\n",
       "      <td>42.152905</td>\n",
       "      <td>41.912620</td>\n",
       "      <td>42.152905</td>\n",
       "      <td>65400</td>\n",
       "      <td>0.0</td>\n",
       "      <td>0</td>\n",
       "    </tr>\n",
       "    <tr>\n",
       "      <th>2004-02-03</th>\n",
       "      <td>41.878298</td>\n",
       "      <td>41.895462</td>\n",
       "      <td>41.723829</td>\n",
       "      <td>41.895462</td>\n",
       "      <td>231100</td>\n",
       "      <td>0.0</td>\n",
       "      <td>0</td>\n",
       "    </tr>\n",
       "    <tr>\n",
       "      <th>2004-02-04</th>\n",
       "      <td>40.762682</td>\n",
       "      <td>40.762682</td>\n",
       "      <td>40.633957</td>\n",
       "      <td>40.633957</td>\n",
       "      <td>51000</td>\n",
       "      <td>0.0</td>\n",
       "      <td>0</td>\n",
       "    </tr>\n",
       "    <tr>\n",
       "      <th>2004-02-05</th>\n",
       "      <td>40.934326</td>\n",
       "      <td>40.934326</td>\n",
       "      <td>40.633967</td>\n",
       "      <td>40.839928</td>\n",
       "      <td>2600</td>\n",
       "      <td>0.0</td>\n",
       "      <td>0</td>\n",
       "    </tr>\n",
       "    <tr>\n",
       "      <th>...</th>\n",
       "      <td>...</td>\n",
       "      <td>...</td>\n",
       "      <td>...</td>\n",
       "      <td>...</td>\n",
       "      <td>...</td>\n",
       "      <td>...</td>\n",
       "      <td>...</td>\n",
       "    </tr>\n",
       "    <tr>\n",
       "      <th>2022-04-28</th>\n",
       "      <td>374.200012</td>\n",
       "      <td>385.390015</td>\n",
       "      <td>371.700012</td>\n",
       "      <td>383.130005</td>\n",
       "      <td>570500</td>\n",
       "      <td>0.0</td>\n",
       "      <td>0</td>\n",
       "    </tr>\n",
       "    <tr>\n",
       "      <th>2022-04-29</th>\n",
       "      <td>378.839996</td>\n",
       "      <td>384.220001</td>\n",
       "      <td>366.660004</td>\n",
       "      <td>367.200012</td>\n",
       "      <td>615200</td>\n",
       "      <td>0.0</td>\n",
       "      <td>0</td>\n",
       "    </tr>\n",
       "    <tr>\n",
       "      <th>2022-05-02</th>\n",
       "      <td>366.380005</td>\n",
       "      <td>373.600006</td>\n",
       "      <td>362.899994</td>\n",
       "      <td>373.269989</td>\n",
       "      <td>711700</td>\n",
       "      <td>0.0</td>\n",
       "      <td>0</td>\n",
       "    </tr>\n",
       "    <tr>\n",
       "      <th>2022-05-03</th>\n",
       "      <td>372.750000</td>\n",
       "      <td>375.500000</td>\n",
       "      <td>370.149994</td>\n",
       "      <td>373.510010</td>\n",
       "      <td>405900</td>\n",
       "      <td>0.0</td>\n",
       "      <td>0</td>\n",
       "    </tr>\n",
       "    <tr>\n",
       "      <th>2022-05-04</th>\n",
       "      <td>374.850006</td>\n",
       "      <td>387.019989</td>\n",
       "      <td>367.649994</td>\n",
       "      <td>386.459991</td>\n",
       "      <td>3288700</td>\n",
       "      <td>0.0</td>\n",
       "      <td>0</td>\n",
       "    </tr>\n",
       "  </tbody>\n",
       "</table>\n",
       "<p>4598 rows × 7 columns</p>\n",
       "</div>"
      ],
      "text/plain": [
       "                  Open        High         Low       Close   Volume  \\\n",
       "Date                                                                  \n",
       "2004-01-30   41.826827   42.255909   41.826827   42.118603   117600   \n",
       "2004-02-02   42.135741   42.152905   41.912620   42.152905    65400   \n",
       "2004-02-03   41.878298   41.895462   41.723829   41.895462   231100   \n",
       "2004-02-04   40.762682   40.762682   40.633957   40.633957    51000   \n",
       "2004-02-05   40.934326   40.934326   40.633967   40.839928     2600   \n",
       "...                ...         ...         ...         ...      ...   \n",
       "2022-04-28  374.200012  385.390015  371.700012  383.130005   570500   \n",
       "2022-04-29  378.839996  384.220001  366.660004  367.200012   615200   \n",
       "2022-05-02  366.380005  373.600006  362.899994  373.269989   711700   \n",
       "2022-05-03  372.750000  375.500000  370.149994  373.510010   405900   \n",
       "2022-05-04  374.850006  387.019989  367.649994  386.459991  3288700   \n",
       "\n",
       "            Dividends  Stock Splits  \n",
       "Date                                 \n",
       "2004-01-30        0.0             0  \n",
       "2004-02-02        0.0             0  \n",
       "2004-02-03        0.0             0  \n",
       "2004-02-04        0.0             0  \n",
       "2004-02-05        0.0             0  \n",
       "...               ...           ...  \n",
       "2022-04-28        0.0             0  \n",
       "2022-04-29        0.0             0  \n",
       "2022-05-02        0.0             0  \n",
       "2022-05-03        0.0             0  \n",
       "2022-05-04        0.0             0  \n",
       "\n",
       "[4598 rows x 7 columns]"
      ]
     },
     "execution_count": 59,
     "metadata": {},
     "output_type": "execute_result"
    }
   ],
   "source": [
    "vgt = yf.Ticker('VGT')\n",
    "xlk = yf.Ticker('XLK')\n",
    "smh = yf.Ticker('SMH')\n",
    "soxx = yf.Ticker('SOXX')\n",
    "iyw = yf.Ticker('IYW')\n",
    "\n",
    "data_hist_list = []\n",
    "for elem in [vgt, xlk, smh, soxx, iyw]:\n",
    "    data_hist = elem.history(period='max')\n",
    "    # check for null and zero entries \n",
    "    len(\n",
    "      data_hist[\n",
    "        data_hist.Close.isna() |\n",
    "        data_hist.Close.isnull() |\n",
    "        data_hist.Close < 1e-8\n",
    "      ]\n",
    "    )\n",
    "    data_hist_list.append(data_hist)\n",
    "    \n",
    "# Print data history\n",
    "data_hist_list[0]"
   ]
  },
  {
   "cell_type": "markdown",
   "metadata": {},
   "source": [
    "# Check for Stationarity"
   ]
  },
  {
   "cell_type": "code",
   "execution_count": 68,
   "metadata": {},
   "outputs": [
    {
     "ename": "SyntaxError",
     "evalue": "invalid character '‘' (U+2018) (773963179.py, line 4)",
     "output_type": "error",
     "traceback": [
      "\u001B[1;36m  Input \u001B[1;32mIn [68]\u001B[1;36m\u001B[0m\n\u001B[1;33m    print(‘The series is stationary’)\u001B[0m\n\u001B[1;37m          ^\u001B[0m\n\u001B[1;31mSyntaxError\u001B[0m\u001B[1;31m:\u001B[0m invalid character '‘' (U+2018)\n"
     ]
    }
   ],
   "source": [
    "def stationarity(a, cutoff = 0.05):\n",
    "  a = np.ravel(a)\n",
    "  if adfuller(a)[1] < cutoff:\n",
    "    print(‘The series is stationary’)\n",
    "    print(‘p-value = ‘, adfuller(a)[1])\n",
    "  else:\n",
    "    print(‘The series is NOT stationary’)\n",
    "    print(‘p-value = ‘, adfuller(a)[1])\n",
    "# stationarity(Asset_1)\n",
    "# stationarity(Asset_2)"
   ]
  },
  {
   "cell_type": "markdown",
   "metadata": {},
   "source": [
    "# Find cointegration\n",
    "We will use the augmented Engle-Granger two-step cointegration test.</br>\n",
    "The null hypothesis is that there is no cointegration between the pairs. </br>\n",
    "Thus, we will be looking for low pvalue. </br>\n",
    "The threshold we are using is 0.05, which was randomly chosen."
   ]
  },
  {
   "cell_type": "code",
   "execution_count": 44,
   "metadata": {},
   "outputs": [],
   "source": [
    "# auxiliary function to find all pairs given a list (nC2)\n",
    "def n_choose_2(lst):\n",
    "    pairs_list = []\n",
    "    for i in range(len(lst) - 1):\n",
    "        rest = lst[i+1:]\n",
    "        for j in range(len(rest)):\n",
    "            pairs_list.append([lst[i], rest[j]])\n",
    "    return pairs_list\n",
    "#n_choose_2([1, 2, 3, 4, 5])"
   ]
  },
  {
   "cell_type": "code",
   "execution_count": 67,
   "metadata": {},
   "outputs": [
    {
     "ename": "ValueError",
     "evalue": "endog and exog matrices are different sizes",
     "output_type": "error",
     "traceback": [
      "\u001B[1;31m---------------------------------------------------------------------------\u001B[0m",
      "\u001B[1;31mValueError\u001B[0m                                Traceback (most recent call last)",
      "Input \u001B[1;32mIn [67]\u001B[0m, in \u001B[0;36m<cell line: 16>\u001B[1;34m()\u001B[0m\n\u001B[0;32m     14\u001B[0m etf_price_list \u001B[38;5;241m=\u001B[39m [data_hist[[\u001B[38;5;124m'\u001B[39m\u001B[38;5;124mClose\u001B[39m\u001B[38;5;124m'\u001B[39m]] \u001B[38;5;28;01mfor\u001B[39;00m data_hist \u001B[38;5;129;01min\u001B[39;00m data_hist_list] \n\u001B[0;32m     15\u001B[0m \u001B[38;5;66;03m# etf_price_list\u001B[39;00m\n\u001B[1;32m---> 16\u001B[0m \u001B[43mfind_cointegrated_pairs\u001B[49m\u001B[43m(\u001B[49m\u001B[43metf_price_list\u001B[49m\u001B[43m)\u001B[49m\n",
      "Input \u001B[1;32mIn [67]\u001B[0m, in \u001B[0;36mfind_cointegrated_pairs\u001B[1;34m(etf_price_list)\u001B[0m\n\u001B[0;32m      6\u001B[0m \u001B[38;5;28;01mfor\u001B[39;00m pair \u001B[38;5;129;01min\u001B[39;00m etf_pairs:\n\u001B[0;32m      7\u001B[0m     threshold \u001B[38;5;241m=\u001B[39m \u001B[38;5;241m0.05\u001B[39m  \n\u001B[1;32m----> 8\u001B[0m     _, pvalue, _ \u001B[38;5;241m=\u001B[39m \u001B[43mcoint\u001B[49m\u001B[43m(\u001B[49m\u001B[43mpair\u001B[49m\u001B[43m[\u001B[49m\u001B[38;5;241;43m0\u001B[39;49m\u001B[43m]\u001B[49m\u001B[43m,\u001B[49m\u001B[43m \u001B[49m\u001B[43mpair\u001B[49m\u001B[43m[\u001B[49m\u001B[38;5;241;43m1\u001B[39;49m\u001B[43m]\u001B[49m\u001B[43m)\u001B[49m\n\u001B[0;32m      9\u001B[0m     \u001B[38;5;28;01mif\u001B[39;00m pvalue \u001B[38;5;241m<\u001B[39m\u001B[38;5;241m=\u001B[39m threshold:\n\u001B[0;32m     10\u001B[0m         cointegrated_pairs\u001B[38;5;241m.\u001B[39mappend(pair)\n",
      "File \u001B[1;32m~\\AppData\\Local\\Programs\\Python\\Python39\\lib\\site-packages\\statsmodels\\tsa\\stattools.py:1714\u001B[0m, in \u001B[0;36mcoint\u001B[1;34m(y0, y1, trend, method, maxlag, autolag, return_results)\u001B[0m\n\u001B[0;32m   1711\u001B[0m \u001B[38;5;28;01melse\u001B[39;00m:\n\u001B[0;32m   1712\u001B[0m     xx \u001B[38;5;241m=\u001B[39m add_trend(y1, trend\u001B[38;5;241m=\u001B[39mtrend, prepend\u001B[38;5;241m=\u001B[39m\u001B[38;5;28;01mFalse\u001B[39;00m)\n\u001B[1;32m-> 1714\u001B[0m res_co \u001B[38;5;241m=\u001B[39m \u001B[43mOLS\u001B[49m\u001B[43m(\u001B[49m\u001B[43my0\u001B[49m\u001B[43m,\u001B[49m\u001B[43m \u001B[49m\u001B[43mxx\u001B[49m\u001B[43m)\u001B[49m\u001B[38;5;241m.\u001B[39mfit()\n\u001B[0;32m   1716\u001B[0m \u001B[38;5;28;01mif\u001B[39;00m res_co\u001B[38;5;241m.\u001B[39mrsquared \u001B[38;5;241m<\u001B[39m \u001B[38;5;241m1\u001B[39m \u001B[38;5;241m-\u001B[39m \u001B[38;5;241m100\u001B[39m \u001B[38;5;241m*\u001B[39m SQRTEPS:\n\u001B[0;32m   1717\u001B[0m     res_adf \u001B[38;5;241m=\u001B[39m adfuller(\n\u001B[0;32m   1718\u001B[0m         res_co\u001B[38;5;241m.\u001B[39mresid, maxlag\u001B[38;5;241m=\u001B[39mmaxlag, autolag\u001B[38;5;241m=\u001B[39mautolag, regression\u001B[38;5;241m=\u001B[39m\u001B[38;5;124m\"\u001B[39m\u001B[38;5;124mn\u001B[39m\u001B[38;5;124m\"\u001B[39m\n\u001B[0;32m   1719\u001B[0m     )\n",
      "File \u001B[1;32m~\\AppData\\Local\\Programs\\Python\\Python39\\lib\\site-packages\\statsmodels\\regression\\linear_model.py:890\u001B[0m, in \u001B[0;36mOLS.__init__\u001B[1;34m(self, endog, exog, missing, hasconst, **kwargs)\u001B[0m\n\u001B[0;32m    887\u001B[0m     msg \u001B[38;5;241m=\u001B[39m (\u001B[38;5;124m\"\u001B[39m\u001B[38;5;124mWeights are not supported in OLS and will be ignored\u001B[39m\u001B[38;5;124m\"\u001B[39m\n\u001B[0;32m    888\u001B[0m            \u001B[38;5;124m\"\u001B[39m\u001B[38;5;124mAn exception will be raised in the next version.\u001B[39m\u001B[38;5;124m\"\u001B[39m)\n\u001B[0;32m    889\u001B[0m     warnings\u001B[38;5;241m.\u001B[39mwarn(msg, ValueWarning)\n\u001B[1;32m--> 890\u001B[0m \u001B[38;5;28msuper\u001B[39m(OLS, \u001B[38;5;28mself\u001B[39m)\u001B[38;5;241m.\u001B[39m\u001B[38;5;21m__init__\u001B[39m(endog, exog, missing\u001B[38;5;241m=\u001B[39mmissing,\n\u001B[0;32m    891\u001B[0m                           hasconst\u001B[38;5;241m=\u001B[39mhasconst, \u001B[38;5;241m*\u001B[39m\u001B[38;5;241m*\u001B[39mkwargs)\n\u001B[0;32m    892\u001B[0m \u001B[38;5;28;01mif\u001B[39;00m \u001B[38;5;124m\"\u001B[39m\u001B[38;5;124mweights\u001B[39m\u001B[38;5;124m\"\u001B[39m \u001B[38;5;129;01min\u001B[39;00m \u001B[38;5;28mself\u001B[39m\u001B[38;5;241m.\u001B[39m_init_keys:\n\u001B[0;32m    893\u001B[0m     \u001B[38;5;28mself\u001B[39m\u001B[38;5;241m.\u001B[39m_init_keys\u001B[38;5;241m.\u001B[39mremove(\u001B[38;5;124m\"\u001B[39m\u001B[38;5;124mweights\u001B[39m\u001B[38;5;124m\"\u001B[39m)\n",
      "File \u001B[1;32m~\\AppData\\Local\\Programs\\Python\\Python39\\lib\\site-packages\\statsmodels\\regression\\linear_model.py:717\u001B[0m, in \u001B[0;36mWLS.__init__\u001B[1;34m(self, endog, exog, weights, missing, hasconst, **kwargs)\u001B[0m\n\u001B[0;32m    715\u001B[0m \u001B[38;5;28;01melse\u001B[39;00m:\n\u001B[0;32m    716\u001B[0m     weights \u001B[38;5;241m=\u001B[39m weights\u001B[38;5;241m.\u001B[39msqueeze()\n\u001B[1;32m--> 717\u001B[0m \u001B[38;5;28msuper\u001B[39m(WLS, \u001B[38;5;28mself\u001B[39m)\u001B[38;5;241m.\u001B[39m\u001B[38;5;21m__init__\u001B[39m(endog, exog, missing\u001B[38;5;241m=\u001B[39mmissing,\n\u001B[0;32m    718\u001B[0m                           weights\u001B[38;5;241m=\u001B[39mweights, hasconst\u001B[38;5;241m=\u001B[39mhasconst, \u001B[38;5;241m*\u001B[39m\u001B[38;5;241m*\u001B[39mkwargs)\n\u001B[0;32m    719\u001B[0m nobs \u001B[38;5;241m=\u001B[39m \u001B[38;5;28mself\u001B[39m\u001B[38;5;241m.\u001B[39mexog\u001B[38;5;241m.\u001B[39mshape[\u001B[38;5;241m0\u001B[39m]\n\u001B[0;32m    720\u001B[0m weights \u001B[38;5;241m=\u001B[39m \u001B[38;5;28mself\u001B[39m\u001B[38;5;241m.\u001B[39mweights\n",
      "File \u001B[1;32m~\\AppData\\Local\\Programs\\Python\\Python39\\lib\\site-packages\\statsmodels\\regression\\linear_model.py:191\u001B[0m, in \u001B[0;36mRegressionModel.__init__\u001B[1;34m(self, endog, exog, **kwargs)\u001B[0m\n\u001B[0;32m    190\u001B[0m \u001B[38;5;28;01mdef\u001B[39;00m \u001B[38;5;21m__init__\u001B[39m(\u001B[38;5;28mself\u001B[39m, endog, exog, \u001B[38;5;241m*\u001B[39m\u001B[38;5;241m*\u001B[39mkwargs):\n\u001B[1;32m--> 191\u001B[0m     \u001B[38;5;28msuper\u001B[39m(RegressionModel, \u001B[38;5;28mself\u001B[39m)\u001B[38;5;241m.\u001B[39m\u001B[38;5;21m__init__\u001B[39m(endog, exog, \u001B[38;5;241m*\u001B[39m\u001B[38;5;241m*\u001B[39mkwargs)\n\u001B[0;32m    192\u001B[0m     \u001B[38;5;28mself\u001B[39m\u001B[38;5;241m.\u001B[39m_data_attr\u001B[38;5;241m.\u001B[39mextend([\u001B[38;5;124m'\u001B[39m\u001B[38;5;124mpinv_wexog\u001B[39m\u001B[38;5;124m'\u001B[39m, \u001B[38;5;124m'\u001B[39m\u001B[38;5;124mwendog\u001B[39m\u001B[38;5;124m'\u001B[39m, \u001B[38;5;124m'\u001B[39m\u001B[38;5;124mwexog\u001B[39m\u001B[38;5;124m'\u001B[39m, \u001B[38;5;124m'\u001B[39m\u001B[38;5;124mweights\u001B[39m\u001B[38;5;124m'\u001B[39m])\n",
      "File \u001B[1;32m~\\AppData\\Local\\Programs\\Python\\Python39\\lib\\site-packages\\statsmodels\\base\\model.py:267\u001B[0m, in \u001B[0;36mLikelihoodModel.__init__\u001B[1;34m(self, endog, exog, **kwargs)\u001B[0m\n\u001B[0;32m    266\u001B[0m \u001B[38;5;28;01mdef\u001B[39;00m \u001B[38;5;21m__init__\u001B[39m(\u001B[38;5;28mself\u001B[39m, endog, exog\u001B[38;5;241m=\u001B[39m\u001B[38;5;28;01mNone\u001B[39;00m, \u001B[38;5;241m*\u001B[39m\u001B[38;5;241m*\u001B[39mkwargs):\n\u001B[1;32m--> 267\u001B[0m     \u001B[38;5;28msuper\u001B[39m()\u001B[38;5;241m.\u001B[39m\u001B[38;5;21m__init__\u001B[39m(endog, exog, \u001B[38;5;241m*\u001B[39m\u001B[38;5;241m*\u001B[39mkwargs)\n\u001B[0;32m    268\u001B[0m     \u001B[38;5;28mself\u001B[39m\u001B[38;5;241m.\u001B[39minitialize()\n",
      "File \u001B[1;32m~\\AppData\\Local\\Programs\\Python\\Python39\\lib\\site-packages\\statsmodels\\base\\model.py:92\u001B[0m, in \u001B[0;36mModel.__init__\u001B[1;34m(self, endog, exog, **kwargs)\u001B[0m\n\u001B[0;32m     90\u001B[0m missing \u001B[38;5;241m=\u001B[39m kwargs\u001B[38;5;241m.\u001B[39mpop(\u001B[38;5;124m'\u001B[39m\u001B[38;5;124mmissing\u001B[39m\u001B[38;5;124m'\u001B[39m, \u001B[38;5;124m'\u001B[39m\u001B[38;5;124mnone\u001B[39m\u001B[38;5;124m'\u001B[39m)\n\u001B[0;32m     91\u001B[0m hasconst \u001B[38;5;241m=\u001B[39m kwargs\u001B[38;5;241m.\u001B[39mpop(\u001B[38;5;124m'\u001B[39m\u001B[38;5;124mhasconst\u001B[39m\u001B[38;5;124m'\u001B[39m, \u001B[38;5;28;01mNone\u001B[39;00m)\n\u001B[1;32m---> 92\u001B[0m \u001B[38;5;28mself\u001B[39m\u001B[38;5;241m.\u001B[39mdata \u001B[38;5;241m=\u001B[39m \u001B[38;5;28mself\u001B[39m\u001B[38;5;241m.\u001B[39m_handle_data(endog, exog, missing, hasconst,\n\u001B[0;32m     93\u001B[0m                               \u001B[38;5;241m*\u001B[39m\u001B[38;5;241m*\u001B[39mkwargs)\n\u001B[0;32m     94\u001B[0m \u001B[38;5;28mself\u001B[39m\u001B[38;5;241m.\u001B[39mk_constant \u001B[38;5;241m=\u001B[39m \u001B[38;5;28mself\u001B[39m\u001B[38;5;241m.\u001B[39mdata\u001B[38;5;241m.\u001B[39mk_constant\n\u001B[0;32m     95\u001B[0m \u001B[38;5;28mself\u001B[39m\u001B[38;5;241m.\u001B[39mexog \u001B[38;5;241m=\u001B[39m \u001B[38;5;28mself\u001B[39m\u001B[38;5;241m.\u001B[39mdata\u001B[38;5;241m.\u001B[39mexog\n",
      "File \u001B[1;32m~\\AppData\\Local\\Programs\\Python\\Python39\\lib\\site-packages\\statsmodels\\base\\model.py:132\u001B[0m, in \u001B[0;36mModel._handle_data\u001B[1;34m(self, endog, exog, missing, hasconst, **kwargs)\u001B[0m\n\u001B[0;32m    131\u001B[0m \u001B[38;5;28;01mdef\u001B[39;00m \u001B[38;5;21m_handle_data\u001B[39m(\u001B[38;5;28mself\u001B[39m, endog, exog, missing, hasconst, \u001B[38;5;241m*\u001B[39m\u001B[38;5;241m*\u001B[39mkwargs):\n\u001B[1;32m--> 132\u001B[0m     data \u001B[38;5;241m=\u001B[39m handle_data(endog, exog, missing, hasconst, \u001B[38;5;241m*\u001B[39m\u001B[38;5;241m*\u001B[39mkwargs)\n\u001B[0;32m    133\u001B[0m     \u001B[38;5;66;03m# kwargs arrays could have changed, easier to just attach here\u001B[39;00m\n\u001B[0;32m    134\u001B[0m     \u001B[38;5;28;01mfor\u001B[39;00m key \u001B[38;5;129;01min\u001B[39;00m kwargs:\n",
      "File \u001B[1;32m~\\AppData\\Local\\Programs\\Python\\Python39\\lib\\site-packages\\statsmodels\\base\\data.py:673\u001B[0m, in \u001B[0;36mhandle_data\u001B[1;34m(endog, exog, missing, hasconst, **kwargs)\u001B[0m\n\u001B[0;32m    670\u001B[0m     exog \u001B[38;5;241m=\u001B[39m np\u001B[38;5;241m.\u001B[39masarray(exog)\n\u001B[0;32m    672\u001B[0m klass \u001B[38;5;241m=\u001B[39m handle_data_class_factory(endog, exog)\n\u001B[1;32m--> 673\u001B[0m \u001B[38;5;28;01mreturn\u001B[39;00m klass(endog, exog\u001B[38;5;241m=\u001B[39mexog, missing\u001B[38;5;241m=\u001B[39mmissing, hasconst\u001B[38;5;241m=\u001B[39mhasconst,\n\u001B[0;32m    674\u001B[0m              \u001B[38;5;241m*\u001B[39m\u001B[38;5;241m*\u001B[39mkwargs)\n",
      "File \u001B[1;32m~\\AppData\\Local\\Programs\\Python\\Python39\\lib\\site-packages\\statsmodels\\base\\data.py:87\u001B[0m, in \u001B[0;36mModelData.__init__\u001B[1;34m(self, endog, exog, missing, hasconst, **kwargs)\u001B[0m\n\u001B[0;32m     85\u001B[0m \u001B[38;5;28mself\u001B[39m\u001B[38;5;241m.\u001B[39mk_constant \u001B[38;5;241m=\u001B[39m \u001B[38;5;241m0\u001B[39m\n\u001B[0;32m     86\u001B[0m \u001B[38;5;28mself\u001B[39m\u001B[38;5;241m.\u001B[39m_handle_constant(hasconst)\n\u001B[1;32m---> 87\u001B[0m \u001B[38;5;28;43mself\u001B[39;49m\u001B[38;5;241;43m.\u001B[39;49m\u001B[43m_check_integrity\u001B[49m\u001B[43m(\u001B[49m\u001B[43m)\u001B[49m\n\u001B[0;32m     88\u001B[0m \u001B[38;5;28mself\u001B[39m\u001B[38;5;241m.\u001B[39m_cache \u001B[38;5;241m=\u001B[39m {}\n",
      "File \u001B[1;32m~\\AppData\\Local\\Programs\\Python\\Python39\\lib\\site-packages\\statsmodels\\base\\data.py:434\u001B[0m, in \u001B[0;36mModelData._check_integrity\u001B[1;34m(self)\u001B[0m\n\u001B[0;32m    432\u001B[0m \u001B[38;5;28;01mif\u001B[39;00m \u001B[38;5;28mself\u001B[39m\u001B[38;5;241m.\u001B[39mexog \u001B[38;5;129;01mis\u001B[39;00m \u001B[38;5;129;01mnot\u001B[39;00m \u001B[38;5;28;01mNone\u001B[39;00m:\n\u001B[0;32m    433\u001B[0m     \u001B[38;5;28;01mif\u001B[39;00m \u001B[38;5;28mlen\u001B[39m(\u001B[38;5;28mself\u001B[39m\u001B[38;5;241m.\u001B[39mexog) \u001B[38;5;241m!=\u001B[39m \u001B[38;5;28mlen\u001B[39m(\u001B[38;5;28mself\u001B[39m\u001B[38;5;241m.\u001B[39mendog):\n\u001B[1;32m--> 434\u001B[0m         \u001B[38;5;28;01mraise\u001B[39;00m \u001B[38;5;167;01mValueError\u001B[39;00m(\u001B[38;5;124m\"\u001B[39m\u001B[38;5;124mendog and exog matrices are different sizes\u001B[39m\u001B[38;5;124m\"\u001B[39m)\n",
      "\u001B[1;31mValueError\u001B[0m: endog and exog matrices are different sizes"
     ]
    }
   ],
   "source": [
    "def find_cointegrated_pairs(etf_price_list):\n",
    "    cointegrated_pairs = []\n",
    "    # create pairs\n",
    "    etf_pairs = n_choose_2(etf_price_list)\n",
    "    # for each pair check for cointegration\n",
    "    for pair in etf_pairs:\n",
    "        threshold = 0.05  \n",
    "        _, pvalue, _ = coint(pair[0], pair[1])\n",
    "        if pvalue <= threshold:\n",
    "            cointegrated_pairs.append(pair)\n",
    "    return cointegrated_pairs\n",
    "        \n",
    "\n",
    "etf_price_list = [data_hist[['Close']] for data_hist in data_hist_list] \n",
    "# etf_price_list\n",
    "find_cointegrated_pairs(etf_price_list)\n",
    "    "
   ]
  },
  {
   "cell_type": "code",
   "execution_count": null,
   "metadata": {},
   "outputs": [],
   "source": []
  }
 ],
 "metadata": {
  "kernelspec": {
   "display_name": "Python 3 (ipykernel)",
   "language": "python",
   "name": "python3"
  },
  "language_info": {
   "codemirror_mode": {
    "name": "ipython",
    "version": 3
   },
   "file_extension": ".py",
   "mimetype": "text/x-python",
   "name": "python",
   "nbconvert_exporter": "python",
   "pygments_lexer": "ipython3",
   "version": "3.9.1"
  }
 },
 "nbformat": 4,
 "nbformat_minor": 1
}